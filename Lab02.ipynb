{
  "cells": [
    {
      "cell_type": "markdown",
      "metadata": {
        "id": "view-in-github",
        "colab_type": "text"
      },
      "source": [
        "<a href=\"https://colab.research.google.com/github/JHaddyJ/ML/blob/main/Lab02.ipynb\" target=\"_parent\"><img src=\"https://colab.research.google.com/assets/colab-badge.svg\" alt=\"Open In Colab\"/></a>"
      ]
    },
    {
      "cell_type": "code",
      "execution_count": null,
      "metadata": {
        "id": "Q5ETPLjN0TiC",
        "colab": {
          "base_uri": "https://localhost:8080/"
        },
        "outputId": "005ea3fe-4317-4a19-e5c8-4f3bb74cefbf"
      },
      "outputs": [
        {
          "output_type": "stream",
          "name": "stdout",
          "text": [
            "Drive already mounted at /content/drive; to attempt to forcibly remount, call drive.mount(\"/content/drive\", force_remount=True).\n"
          ]
        }
      ],
      "source": [
        "from google.colab import drive\n",
        "drive.mount('/content/drive')"
      ]
    },
    {
      "cell_type": "code",
      "execution_count": null,
      "metadata": {
        "id": "H8jhgyYH1LxK"
      },
      "outputs": [],
      "source": [
        "#Import the Libraries\n",
        "import pandas as pd\n",
        "import numpy as np\n",
        "import statsmodels.api as sm\n",
        "import seaborn as sns\n",
        "import matplotlib.pyplot as plt\n",
        "from sklearn import linear_model"
      ]
    },
    {
      "cell_type": "code",
      "execution_count": null,
      "metadata": {
        "id": "-_KTXftQFLx2"
      },
      "outputs": [],
      "source": [
        "#Import the dataset\n",
        "res_Rating = pd.read_csv('/content/drive/MyDrive/CSC340/ResturantRatings.csv')"
      ]
    },
    {
      "cell_type": "markdown",
      "metadata": {
        "id": "i1BE5t3V5ZGa"
      },
      "source": [
        "# Exploratory Data Analysis"
      ]
    },
    {
      "cell_type": "markdown",
      "source": [
        "We will learn about the 'ResturantRatings' dataset to gain insight into the data and identify patterns and relationships that may exist."
      ],
      "metadata": {
        "id": "ZmxXyje4JT4j"
      }
    },
    {
      "cell_type": "code",
      "execution_count": null,
      "metadata": {
        "colab": {
          "base_uri": "https://localhost:8080/"
        },
        "id": "aiknbhgfHUXF",
        "outputId": "c84be5d2-84f1-47c9-8d8d-17190065d24e"
      },
      "outputs": [
        {
          "output_type": "execute_result",
          "data": {
            "text/plain": [
              "(15, 5)"
            ]
          },
          "metadata": {},
          "execution_count": 5
        }
      ],
      "source": [
        "#Dimesions of the data\n",
        "res_Rating.shape"
      ]
    },
    {
      "cell_type": "markdown",
      "metadata": {
        "id": "8oCs2aPPHrkA"
      },
      "source": [
        "The dataset contains 15 rows/values and 5 columns/attributes including the target attribute.\n",
        "\n",
        "Info:\n",
        "> The dimensions indicate a low-data dataset."
      ]
    },
    {
      "cell_type": "code",
      "execution_count": null,
      "metadata": {
        "colab": {
          "base_uri": "https://localhost:8080/"
        },
        "id": "YeGev89StGna",
        "outputId": "92af1025-4349-49f4-a90b-75648f9e2901"
      },
      "outputs": [
        {
          "output_type": "stream",
          "name": "stdout",
          "text": [
            "<class 'pandas.core.frame.DataFrame'>\n",
            "RangeIndex: 15 entries, 0 to 14\n",
            "Data columns (total 5 columns):\n",
            " #   Column      Non-Null Count  Dtype\n",
            "---  ------      --------------  -----\n",
            " 0   restaurant  15 non-null     int64\n",
            " 1   food        15 non-null     int64\n",
            " 2   ambience    15 non-null     int64\n",
            " 3   service     15 non-null     int64\n",
            " 4   rating      15 non-null     int64\n",
            "dtypes: int64(5)\n",
            "memory usage: 728.0 bytes\n"
          ]
        }
      ],
      "source": [
        "#Checking data types per attribute\n",
        "res_Rating.info()"
      ]
    },
    {
      "cell_type": "markdown",
      "source": [
        "The values of each attribute are numerical and there are no missing values in the dataset.\n",
        "\n",
        "Info:\n",
        "\n",
        "> It is a fully populated dataset."
      ],
      "metadata": {
        "id": "E2Mwcyvauvfm"
      }
    },
    {
      "cell_type": "code",
      "execution_count": null,
      "metadata": {
        "colab": {
          "base_uri": "https://localhost:8080/",
          "height": 206
        },
        "id": "uqgZnZiLHvaX",
        "outputId": "3d3da47b-5db1-4b59-9831-67abfddf1116"
      },
      "outputs": [
        {
          "output_type": "execute_result",
          "data": {
            "text/plain": [
              "   restaurant  food  ambience  service  rating\n",
              "0           1    85        82       89      78\n",
              "1           2    80        90       80      85\n",
              "2           3    83        86       83      85\n",
              "3           4    70        96       75      72\n",
              "4           5    68        80       78      75"
            ],
            "text/html": [
              "\n",
              "  <div id=\"df-eb631790-90cc-4c7b-aaed-08afd4aa0605\" class=\"colab-df-container\">\n",
              "    <div>\n",
              "<style scoped>\n",
              "    .dataframe tbody tr th:only-of-type {\n",
              "        vertical-align: middle;\n",
              "    }\n",
              "\n",
              "    .dataframe tbody tr th {\n",
              "        vertical-align: top;\n",
              "    }\n",
              "\n",
              "    .dataframe thead th {\n",
              "        text-align: right;\n",
              "    }\n",
              "</style>\n",
              "<table border=\"1\" class=\"dataframe\">\n",
              "  <thead>\n",
              "    <tr style=\"text-align: right;\">\n",
              "      <th></th>\n",
              "      <th>restaurant</th>\n",
              "      <th>food</th>\n",
              "      <th>ambience</th>\n",
              "      <th>service</th>\n",
              "      <th>rating</th>\n",
              "    </tr>\n",
              "  </thead>\n",
              "  <tbody>\n",
              "    <tr>\n",
              "      <th>0</th>\n",
              "      <td>1</td>\n",
              "      <td>85</td>\n",
              "      <td>82</td>\n",
              "      <td>89</td>\n",
              "      <td>78</td>\n",
              "    </tr>\n",
              "    <tr>\n",
              "      <th>1</th>\n",
              "      <td>2</td>\n",
              "      <td>80</td>\n",
              "      <td>90</td>\n",
              "      <td>80</td>\n",
              "      <td>85</td>\n",
              "    </tr>\n",
              "    <tr>\n",
              "      <th>2</th>\n",
              "      <td>3</td>\n",
              "      <td>83</td>\n",
              "      <td>86</td>\n",
              "      <td>83</td>\n",
              "      <td>85</td>\n",
              "    </tr>\n",
              "    <tr>\n",
              "      <th>3</th>\n",
              "      <td>4</td>\n",
              "      <td>70</td>\n",
              "      <td>96</td>\n",
              "      <td>75</td>\n",
              "      <td>72</td>\n",
              "    </tr>\n",
              "    <tr>\n",
              "      <th>4</th>\n",
              "      <td>5</td>\n",
              "      <td>68</td>\n",
              "      <td>80</td>\n",
              "      <td>78</td>\n",
              "      <td>75</td>\n",
              "    </tr>\n",
              "  </tbody>\n",
              "</table>\n",
              "</div>\n",
              "    <div class=\"colab-df-buttons\">\n",
              "\n",
              "  <div class=\"colab-df-container\">\n",
              "    <button class=\"colab-df-convert\" onclick=\"convertToInteractive('df-eb631790-90cc-4c7b-aaed-08afd4aa0605')\"\n",
              "            title=\"Convert this dataframe to an interactive table.\"\n",
              "            style=\"display:none;\">\n",
              "\n",
              "  <svg xmlns=\"http://www.w3.org/2000/svg\" height=\"24px\" viewBox=\"0 -960 960 960\">\n",
              "    <path d=\"M120-120v-720h720v720H120Zm60-500h600v-160H180v160Zm220 220h160v-160H400v160Zm0 220h160v-160H400v160ZM180-400h160v-160H180v160Zm440 0h160v-160H620v160ZM180-180h160v-160H180v160Zm440 0h160v-160H620v160Z\"/>\n",
              "  </svg>\n",
              "    </button>\n",
              "\n",
              "  <style>\n",
              "    .colab-df-container {\n",
              "      display:flex;\n",
              "      gap: 12px;\n",
              "    }\n",
              "\n",
              "    .colab-df-convert {\n",
              "      background-color: #E8F0FE;\n",
              "      border: none;\n",
              "      border-radius: 50%;\n",
              "      cursor: pointer;\n",
              "      display: none;\n",
              "      fill: #1967D2;\n",
              "      height: 32px;\n",
              "      padding: 0 0 0 0;\n",
              "      width: 32px;\n",
              "    }\n",
              "\n",
              "    .colab-df-convert:hover {\n",
              "      background-color: #E2EBFA;\n",
              "      box-shadow: 0px 1px 2px rgba(60, 64, 67, 0.3), 0px 1px 3px 1px rgba(60, 64, 67, 0.15);\n",
              "      fill: #174EA6;\n",
              "    }\n",
              "\n",
              "    .colab-df-buttons div {\n",
              "      margin-bottom: 4px;\n",
              "    }\n",
              "\n",
              "    [theme=dark] .colab-df-convert {\n",
              "      background-color: #3B4455;\n",
              "      fill: #D2E3FC;\n",
              "    }\n",
              "\n",
              "    [theme=dark] .colab-df-convert:hover {\n",
              "      background-color: #434B5C;\n",
              "      box-shadow: 0px 1px 3px 1px rgba(0, 0, 0, 0.15);\n",
              "      filter: drop-shadow(0px 1px 2px rgba(0, 0, 0, 0.3));\n",
              "      fill: #FFFFFF;\n",
              "    }\n",
              "  </style>\n",
              "\n",
              "    <script>\n",
              "      const buttonEl =\n",
              "        document.querySelector('#df-eb631790-90cc-4c7b-aaed-08afd4aa0605 button.colab-df-convert');\n",
              "      buttonEl.style.display =\n",
              "        google.colab.kernel.accessAllowed ? 'block' : 'none';\n",
              "\n",
              "      async function convertToInteractive(key) {\n",
              "        const element = document.querySelector('#df-eb631790-90cc-4c7b-aaed-08afd4aa0605');\n",
              "        const dataTable =\n",
              "          await google.colab.kernel.invokeFunction('convertToInteractive',\n",
              "                                                    [key], {});\n",
              "        if (!dataTable) return;\n",
              "\n",
              "        const docLinkHtml = 'Like what you see? Visit the ' +\n",
              "          '<a target=\"_blank\" href=https://colab.research.google.com/notebooks/data_table.ipynb>data table notebook</a>'\n",
              "          + ' to learn more about interactive tables.';\n",
              "        element.innerHTML = '';\n",
              "        dataTable['output_type'] = 'display_data';\n",
              "        await google.colab.output.renderOutput(dataTable, element);\n",
              "        const docLink = document.createElement('div');\n",
              "        docLink.innerHTML = docLinkHtml;\n",
              "        element.appendChild(docLink);\n",
              "      }\n",
              "    </script>\n",
              "  </div>\n",
              "\n",
              "\n",
              "<div id=\"df-1296d085-3c84-4c0b-9fe8-5e25c7cbdd21\">\n",
              "  <button class=\"colab-df-quickchart\" onclick=\"quickchart('df-1296d085-3c84-4c0b-9fe8-5e25c7cbdd21')\"\n",
              "            title=\"Suggest charts\"\n",
              "            style=\"display:none;\">\n",
              "\n",
              "<svg xmlns=\"http://www.w3.org/2000/svg\" height=\"24px\"viewBox=\"0 0 24 24\"\n",
              "     width=\"24px\">\n",
              "    <g>\n",
              "        <path d=\"M19 3H5c-1.1 0-2 .9-2 2v14c0 1.1.9 2 2 2h14c1.1 0 2-.9 2-2V5c0-1.1-.9-2-2-2zM9 17H7v-7h2v7zm4 0h-2V7h2v10zm4 0h-2v-4h2v4z\"/>\n",
              "    </g>\n",
              "</svg>\n",
              "  </button>\n",
              "\n",
              "<style>\n",
              "  .colab-df-quickchart {\n",
              "      --bg-color: #E8F0FE;\n",
              "      --fill-color: #1967D2;\n",
              "      --hover-bg-color: #E2EBFA;\n",
              "      --hover-fill-color: #174EA6;\n",
              "      --disabled-fill-color: #AAA;\n",
              "      --disabled-bg-color: #DDD;\n",
              "  }\n",
              "\n",
              "  [theme=dark] .colab-df-quickchart {\n",
              "      --bg-color: #3B4455;\n",
              "      --fill-color: #D2E3FC;\n",
              "      --hover-bg-color: #434B5C;\n",
              "      --hover-fill-color: #FFFFFF;\n",
              "      --disabled-bg-color: #3B4455;\n",
              "      --disabled-fill-color: #666;\n",
              "  }\n",
              "\n",
              "  .colab-df-quickchart {\n",
              "    background-color: var(--bg-color);\n",
              "    border: none;\n",
              "    border-radius: 50%;\n",
              "    cursor: pointer;\n",
              "    display: none;\n",
              "    fill: var(--fill-color);\n",
              "    height: 32px;\n",
              "    padding: 0;\n",
              "    width: 32px;\n",
              "  }\n",
              "\n",
              "  .colab-df-quickchart:hover {\n",
              "    background-color: var(--hover-bg-color);\n",
              "    box-shadow: 0 1px 2px rgba(60, 64, 67, 0.3), 0 1px 3px 1px rgba(60, 64, 67, 0.15);\n",
              "    fill: var(--button-hover-fill-color);\n",
              "  }\n",
              "\n",
              "  .colab-df-quickchart-complete:disabled,\n",
              "  .colab-df-quickchart-complete:disabled:hover {\n",
              "    background-color: var(--disabled-bg-color);\n",
              "    fill: var(--disabled-fill-color);\n",
              "    box-shadow: none;\n",
              "  }\n",
              "\n",
              "  .colab-df-spinner {\n",
              "    border: 2px solid var(--fill-color);\n",
              "    border-color: transparent;\n",
              "    border-bottom-color: var(--fill-color);\n",
              "    animation:\n",
              "      spin 1s steps(1) infinite;\n",
              "  }\n",
              "\n",
              "  @keyframes spin {\n",
              "    0% {\n",
              "      border-color: transparent;\n",
              "      border-bottom-color: var(--fill-color);\n",
              "      border-left-color: var(--fill-color);\n",
              "    }\n",
              "    20% {\n",
              "      border-color: transparent;\n",
              "      border-left-color: var(--fill-color);\n",
              "      border-top-color: var(--fill-color);\n",
              "    }\n",
              "    30% {\n",
              "      border-color: transparent;\n",
              "      border-left-color: var(--fill-color);\n",
              "      border-top-color: var(--fill-color);\n",
              "      border-right-color: var(--fill-color);\n",
              "    }\n",
              "    40% {\n",
              "      border-color: transparent;\n",
              "      border-right-color: var(--fill-color);\n",
              "      border-top-color: var(--fill-color);\n",
              "    }\n",
              "    60% {\n",
              "      border-color: transparent;\n",
              "      border-right-color: var(--fill-color);\n",
              "    }\n",
              "    80% {\n",
              "      border-color: transparent;\n",
              "      border-right-color: var(--fill-color);\n",
              "      border-bottom-color: var(--fill-color);\n",
              "    }\n",
              "    90% {\n",
              "      border-color: transparent;\n",
              "      border-bottom-color: var(--fill-color);\n",
              "    }\n",
              "  }\n",
              "</style>\n",
              "\n",
              "  <script>\n",
              "    async function quickchart(key) {\n",
              "      const quickchartButtonEl =\n",
              "        document.querySelector('#' + key + ' button');\n",
              "      quickchartButtonEl.disabled = true;  // To prevent multiple clicks.\n",
              "      quickchartButtonEl.classList.add('colab-df-spinner');\n",
              "      try {\n",
              "        const charts = await google.colab.kernel.invokeFunction(\n",
              "            'suggestCharts', [key], {});\n",
              "      } catch (error) {\n",
              "        console.error('Error during call to suggestCharts:', error);\n",
              "      }\n",
              "      quickchartButtonEl.classList.remove('colab-df-spinner');\n",
              "      quickchartButtonEl.classList.add('colab-df-quickchart-complete');\n",
              "    }\n",
              "    (() => {\n",
              "      let quickchartButtonEl =\n",
              "        document.querySelector('#df-1296d085-3c84-4c0b-9fe8-5e25c7cbdd21 button');\n",
              "      quickchartButtonEl.style.display =\n",
              "        google.colab.kernel.accessAllowed ? 'block' : 'none';\n",
              "    })();\n",
              "  </script>\n",
              "</div>\n",
              "    </div>\n",
              "  </div>\n"
            ],
            "application/vnd.google.colaboratory.intrinsic+json": {
              "type": "dataframe",
              "variable_name": "res_Rating",
              "summary": "{\n  \"name\": \"res_Rating\",\n  \"rows\": 15,\n  \"fields\": [\n    {\n      \"column\": \"restaurant\",\n      \"properties\": {\n        \"dtype\": \"number\",\n        \"std\": 4,\n        \"min\": 1,\n        \"max\": 15,\n        \"num_unique_values\": 15,\n        \"samples\": [\n          10,\n          12,\n          1\n        ],\n        \"semantic_type\": \"\",\n        \"description\": \"\"\n      }\n    },\n    {\n      \"column\": \"food\",\n      \"properties\": {\n        \"dtype\": \"number\",\n        \"std\": 6,\n        \"min\": 64,\n        \"max\": 85,\n        \"num_unique_values\": 13,\n        \"samples\": [\n          71,\n          75,\n          85\n        ],\n        \"semantic_type\": \"\",\n        \"description\": \"\"\n      }\n    },\n    {\n      \"column\": \"ambience\",\n      \"properties\": {\n        \"dtype\": \"number\",\n        \"std\": 9,\n        \"min\": 68,\n        \"max\": 96,\n        \"num_unique_values\": 10,\n        \"samples\": [\n          72,\n          90,\n          70\n        ],\n        \"semantic_type\": \"\",\n        \"description\": \"\"\n      }\n    },\n    {\n      \"column\": \"service\",\n      \"properties\": {\n        \"dtype\": \"number\",\n        \"std\": 8,\n        \"min\": 56,\n        \"max\": 89,\n        \"num_unique_values\": 9,\n        \"samples\": [\n          72,\n          80,\n          56\n        ],\n        \"semantic_type\": \"\",\n        \"description\": \"\"\n      }\n    },\n    {\n      \"column\": \"rating\",\n      \"properties\": {\n        \"dtype\": \"number\",\n        \"std\": 8,\n        \"min\": 54,\n        \"max\": 85,\n        \"num_unique_values\": 14,\n        \"samples\": [\n          74,\n          80,\n          78\n        ],\n        \"semantic_type\": \"\",\n        \"description\": \"\"\n      }\n    }\n  ]\n}"
            }
          },
          "metadata": {},
          "execution_count": 7
        }
      ],
      "source": [
        "#View the first 5 rows of the data\n",
        "res_Rating.head()"
      ]
    },
    {
      "cell_type": "markdown",
      "metadata": {
        "id": "32AP0NJXsuN7"
      },
      "source": [
        "Background information of \"RestaaurantRating\":\n",
        "> Each row represents the average rating of a restaurant's different aspects as provided by previous customers.\n",
        "\n",
        "> The dataset contains the following attributes: ambience, food, service, and overall rating.\n",
        "\n",
        "> The first 3 attributes are predictor features and the last one is the outcome.\n",
        "\n",
        "From the view of the first 5 rows, we can see that 'restaurant' attribute is not needed for the ML algortihm since it represents the different customers who made the ratings.\n",
        "\n",
        "Info:\n",
        "> The target attribute is 'rating' and the features are 'food', 'ambience' and 'service'."
      ]
    },
    {
      "cell_type": "code",
      "execution_count": null,
      "metadata": {
        "id": "4J1rldQdstri",
        "colab": {
          "base_uri": "https://localhost:8080/",
          "height": 206
        },
        "outputId": "0a12438a-4530-4c94-d79b-b2643adbe8f1"
      },
      "outputs": [
        {
          "output_type": "execute_result",
          "data": {
            "text/plain": [
              "   food  ambience  service  rating\n",
              "0    85        82       89      78\n",
              "1    80        90       80      85\n",
              "2    83        86       83      85\n",
              "3    70        96       75      72\n",
              "4    68        80       78      75"
            ],
            "text/html": [
              "\n",
              "  <div id=\"df-01e6d5b5-3548-43a8-b5ac-faee8ce35169\" class=\"colab-df-container\">\n",
              "    <div>\n",
              "<style scoped>\n",
              "    .dataframe tbody tr th:only-of-type {\n",
              "        vertical-align: middle;\n",
              "    }\n",
              "\n",
              "    .dataframe tbody tr th {\n",
              "        vertical-align: top;\n",
              "    }\n",
              "\n",
              "    .dataframe thead th {\n",
              "        text-align: right;\n",
              "    }\n",
              "</style>\n",
              "<table border=\"1\" class=\"dataframe\">\n",
              "  <thead>\n",
              "    <tr style=\"text-align: right;\">\n",
              "      <th></th>\n",
              "      <th>food</th>\n",
              "      <th>ambience</th>\n",
              "      <th>service</th>\n",
              "      <th>rating</th>\n",
              "    </tr>\n",
              "  </thead>\n",
              "  <tbody>\n",
              "    <tr>\n",
              "      <th>0</th>\n",
              "      <td>85</td>\n",
              "      <td>82</td>\n",
              "      <td>89</td>\n",
              "      <td>78</td>\n",
              "    </tr>\n",
              "    <tr>\n",
              "      <th>1</th>\n",
              "      <td>80</td>\n",
              "      <td>90</td>\n",
              "      <td>80</td>\n",
              "      <td>85</td>\n",
              "    </tr>\n",
              "    <tr>\n",
              "      <th>2</th>\n",
              "      <td>83</td>\n",
              "      <td>86</td>\n",
              "      <td>83</td>\n",
              "      <td>85</td>\n",
              "    </tr>\n",
              "    <tr>\n",
              "      <th>3</th>\n",
              "      <td>70</td>\n",
              "      <td>96</td>\n",
              "      <td>75</td>\n",
              "      <td>72</td>\n",
              "    </tr>\n",
              "    <tr>\n",
              "      <th>4</th>\n",
              "      <td>68</td>\n",
              "      <td>80</td>\n",
              "      <td>78</td>\n",
              "      <td>75</td>\n",
              "    </tr>\n",
              "  </tbody>\n",
              "</table>\n",
              "</div>\n",
              "    <div class=\"colab-df-buttons\">\n",
              "\n",
              "  <div class=\"colab-df-container\">\n",
              "    <button class=\"colab-df-convert\" onclick=\"convertToInteractive('df-01e6d5b5-3548-43a8-b5ac-faee8ce35169')\"\n",
              "            title=\"Convert this dataframe to an interactive table.\"\n",
              "            style=\"display:none;\">\n",
              "\n",
              "  <svg xmlns=\"http://www.w3.org/2000/svg\" height=\"24px\" viewBox=\"0 -960 960 960\">\n",
              "    <path d=\"M120-120v-720h720v720H120Zm60-500h600v-160H180v160Zm220 220h160v-160H400v160Zm0 220h160v-160H400v160ZM180-400h160v-160H180v160Zm440 0h160v-160H620v160ZM180-180h160v-160H180v160Zm440 0h160v-160H620v160Z\"/>\n",
              "  </svg>\n",
              "    </button>\n",
              "\n",
              "  <style>\n",
              "    .colab-df-container {\n",
              "      display:flex;\n",
              "      gap: 12px;\n",
              "    }\n",
              "\n",
              "    .colab-df-convert {\n",
              "      background-color: #E8F0FE;\n",
              "      border: none;\n",
              "      border-radius: 50%;\n",
              "      cursor: pointer;\n",
              "      display: none;\n",
              "      fill: #1967D2;\n",
              "      height: 32px;\n",
              "      padding: 0 0 0 0;\n",
              "      width: 32px;\n",
              "    }\n",
              "\n",
              "    .colab-df-convert:hover {\n",
              "      background-color: #E2EBFA;\n",
              "      box-shadow: 0px 1px 2px rgba(60, 64, 67, 0.3), 0px 1px 3px 1px rgba(60, 64, 67, 0.15);\n",
              "      fill: #174EA6;\n",
              "    }\n",
              "\n",
              "    .colab-df-buttons div {\n",
              "      margin-bottom: 4px;\n",
              "    }\n",
              "\n",
              "    [theme=dark] .colab-df-convert {\n",
              "      background-color: #3B4455;\n",
              "      fill: #D2E3FC;\n",
              "    }\n",
              "\n",
              "    [theme=dark] .colab-df-convert:hover {\n",
              "      background-color: #434B5C;\n",
              "      box-shadow: 0px 1px 3px 1px rgba(0, 0, 0, 0.15);\n",
              "      filter: drop-shadow(0px 1px 2px rgba(0, 0, 0, 0.3));\n",
              "      fill: #FFFFFF;\n",
              "    }\n",
              "  </style>\n",
              "\n",
              "    <script>\n",
              "      const buttonEl =\n",
              "        document.querySelector('#df-01e6d5b5-3548-43a8-b5ac-faee8ce35169 button.colab-df-convert');\n",
              "      buttonEl.style.display =\n",
              "        google.colab.kernel.accessAllowed ? 'block' : 'none';\n",
              "\n",
              "      async function convertToInteractive(key) {\n",
              "        const element = document.querySelector('#df-01e6d5b5-3548-43a8-b5ac-faee8ce35169');\n",
              "        const dataTable =\n",
              "          await google.colab.kernel.invokeFunction('convertToInteractive',\n",
              "                                                    [key], {});\n",
              "        if (!dataTable) return;\n",
              "\n",
              "        const docLinkHtml = 'Like what you see? Visit the ' +\n",
              "          '<a target=\"_blank\" href=https://colab.research.google.com/notebooks/data_table.ipynb>data table notebook</a>'\n",
              "          + ' to learn more about interactive tables.';\n",
              "        element.innerHTML = '';\n",
              "        dataTable['output_type'] = 'display_data';\n",
              "        await google.colab.output.renderOutput(dataTable, element);\n",
              "        const docLink = document.createElement('div');\n",
              "        docLink.innerHTML = docLinkHtml;\n",
              "        element.appendChild(docLink);\n",
              "      }\n",
              "    </script>\n",
              "  </div>\n",
              "\n",
              "\n",
              "<div id=\"df-cb255b15-9ad5-4f3e-bf08-e3ee1a412c47\">\n",
              "  <button class=\"colab-df-quickchart\" onclick=\"quickchart('df-cb255b15-9ad5-4f3e-bf08-e3ee1a412c47')\"\n",
              "            title=\"Suggest charts\"\n",
              "            style=\"display:none;\">\n",
              "\n",
              "<svg xmlns=\"http://www.w3.org/2000/svg\" height=\"24px\"viewBox=\"0 0 24 24\"\n",
              "     width=\"24px\">\n",
              "    <g>\n",
              "        <path d=\"M19 3H5c-1.1 0-2 .9-2 2v14c0 1.1.9 2 2 2h14c1.1 0 2-.9 2-2V5c0-1.1-.9-2-2-2zM9 17H7v-7h2v7zm4 0h-2V7h2v10zm4 0h-2v-4h2v4z\"/>\n",
              "    </g>\n",
              "</svg>\n",
              "  </button>\n",
              "\n",
              "<style>\n",
              "  .colab-df-quickchart {\n",
              "      --bg-color: #E8F0FE;\n",
              "      --fill-color: #1967D2;\n",
              "      --hover-bg-color: #E2EBFA;\n",
              "      --hover-fill-color: #174EA6;\n",
              "      --disabled-fill-color: #AAA;\n",
              "      --disabled-bg-color: #DDD;\n",
              "  }\n",
              "\n",
              "  [theme=dark] .colab-df-quickchart {\n",
              "      --bg-color: #3B4455;\n",
              "      --fill-color: #D2E3FC;\n",
              "      --hover-bg-color: #434B5C;\n",
              "      --hover-fill-color: #FFFFFF;\n",
              "      --disabled-bg-color: #3B4455;\n",
              "      --disabled-fill-color: #666;\n",
              "  }\n",
              "\n",
              "  .colab-df-quickchart {\n",
              "    background-color: var(--bg-color);\n",
              "    border: none;\n",
              "    border-radius: 50%;\n",
              "    cursor: pointer;\n",
              "    display: none;\n",
              "    fill: var(--fill-color);\n",
              "    height: 32px;\n",
              "    padding: 0;\n",
              "    width: 32px;\n",
              "  }\n",
              "\n",
              "  .colab-df-quickchart:hover {\n",
              "    background-color: var(--hover-bg-color);\n",
              "    box-shadow: 0 1px 2px rgba(60, 64, 67, 0.3), 0 1px 3px 1px rgba(60, 64, 67, 0.15);\n",
              "    fill: var(--button-hover-fill-color);\n",
              "  }\n",
              "\n",
              "  .colab-df-quickchart-complete:disabled,\n",
              "  .colab-df-quickchart-complete:disabled:hover {\n",
              "    background-color: var(--disabled-bg-color);\n",
              "    fill: var(--disabled-fill-color);\n",
              "    box-shadow: none;\n",
              "  }\n",
              "\n",
              "  .colab-df-spinner {\n",
              "    border: 2px solid var(--fill-color);\n",
              "    border-color: transparent;\n",
              "    border-bottom-color: var(--fill-color);\n",
              "    animation:\n",
              "      spin 1s steps(1) infinite;\n",
              "  }\n",
              "\n",
              "  @keyframes spin {\n",
              "    0% {\n",
              "      border-color: transparent;\n",
              "      border-bottom-color: var(--fill-color);\n",
              "      border-left-color: var(--fill-color);\n",
              "    }\n",
              "    20% {\n",
              "      border-color: transparent;\n",
              "      border-left-color: var(--fill-color);\n",
              "      border-top-color: var(--fill-color);\n",
              "    }\n",
              "    30% {\n",
              "      border-color: transparent;\n",
              "      border-left-color: var(--fill-color);\n",
              "      border-top-color: var(--fill-color);\n",
              "      border-right-color: var(--fill-color);\n",
              "    }\n",
              "    40% {\n",
              "      border-color: transparent;\n",
              "      border-right-color: var(--fill-color);\n",
              "      border-top-color: var(--fill-color);\n",
              "    }\n",
              "    60% {\n",
              "      border-color: transparent;\n",
              "      border-right-color: var(--fill-color);\n",
              "    }\n",
              "    80% {\n",
              "      border-color: transparent;\n",
              "      border-right-color: var(--fill-color);\n",
              "      border-bottom-color: var(--fill-color);\n",
              "    }\n",
              "    90% {\n",
              "      border-color: transparent;\n",
              "      border-bottom-color: var(--fill-color);\n",
              "    }\n",
              "  }\n",
              "</style>\n",
              "\n",
              "  <script>\n",
              "    async function quickchart(key) {\n",
              "      const quickchartButtonEl =\n",
              "        document.querySelector('#' + key + ' button');\n",
              "      quickchartButtonEl.disabled = true;  // To prevent multiple clicks.\n",
              "      quickchartButtonEl.classList.add('colab-df-spinner');\n",
              "      try {\n",
              "        const charts = await google.colab.kernel.invokeFunction(\n",
              "            'suggestCharts', [key], {});\n",
              "      } catch (error) {\n",
              "        console.error('Error during call to suggestCharts:', error);\n",
              "      }\n",
              "      quickchartButtonEl.classList.remove('colab-df-spinner');\n",
              "      quickchartButtonEl.classList.add('colab-df-quickchart-complete');\n",
              "    }\n",
              "    (() => {\n",
              "      let quickchartButtonEl =\n",
              "        document.querySelector('#df-cb255b15-9ad5-4f3e-bf08-e3ee1a412c47 button');\n",
              "      quickchartButtonEl.style.display =\n",
              "        google.colab.kernel.accessAllowed ? 'block' : 'none';\n",
              "    })();\n",
              "  </script>\n",
              "</div>\n",
              "    </div>\n",
              "  </div>\n"
            ],
            "application/vnd.google.colaboratory.intrinsic+json": {
              "type": "dataframe",
              "variable_name": "res_Ratingmod",
              "summary": "{\n  \"name\": \"res_Ratingmod\",\n  \"rows\": 15,\n  \"fields\": [\n    {\n      \"column\": \"food\",\n      \"properties\": {\n        \"dtype\": \"number\",\n        \"std\": 6,\n        \"min\": 64,\n        \"max\": 85,\n        \"num_unique_values\": 13,\n        \"samples\": [\n          71,\n          75,\n          85\n        ],\n        \"semantic_type\": \"\",\n        \"description\": \"\"\n      }\n    },\n    {\n      \"column\": \"ambience\",\n      \"properties\": {\n        \"dtype\": \"number\",\n        \"std\": 9,\n        \"min\": 68,\n        \"max\": 96,\n        \"num_unique_values\": 10,\n        \"samples\": [\n          72,\n          90,\n          70\n        ],\n        \"semantic_type\": \"\",\n        \"description\": \"\"\n      }\n    },\n    {\n      \"column\": \"service\",\n      \"properties\": {\n        \"dtype\": \"number\",\n        \"std\": 8,\n        \"min\": 56,\n        \"max\": 89,\n        \"num_unique_values\": 9,\n        \"samples\": [\n          72,\n          80,\n          56\n        ],\n        \"semantic_type\": \"\",\n        \"description\": \"\"\n      }\n    },\n    {\n      \"column\": \"rating\",\n      \"properties\": {\n        \"dtype\": \"number\",\n        \"std\": 8,\n        \"min\": 54,\n        \"max\": 85,\n        \"num_unique_values\": 14,\n        \"samples\": [\n          74,\n          80,\n          78\n        ],\n        \"semantic_type\": \"\",\n        \"description\": \"\"\n      }\n    }\n  ]\n}"
            }
          },
          "metadata": {},
          "execution_count": 8
        }
      ],
      "source": [
        "#create new dataframe of the dataset with the useful attributes to reduce noise\n",
        "res_Ratingmod = res_Rating.drop(['restaurant'], axis =1)\n",
        "res_Ratingmod.head()"
      ]
    },
    {
      "cell_type": "markdown",
      "source": [
        "The values of the attributes appear to be similar / within the same range. There is no huge visible difference in the values of the attributes. The numbers are close to each other.\n",
        "> We will compute the stats to further verify if it applies to the whole dataset."
      ],
      "metadata": {
        "id": "lSvGJm3kUjFT"
      }
    },
    {
      "cell_type": "code",
      "source": [
        "#Summary statistics of the dataset\n",
        "res_Ratingmod.describe()"
      ],
      "metadata": {
        "colab": {
          "base_uri": "https://localhost:8080/",
          "height": 300
        },
        "id": "nGTdCt-yTn0O",
        "outputId": "7e477fba-93bc-4f6d-c46c-7dfaa7cfd8c5"
      },
      "execution_count": null,
      "outputs": [
        {
          "output_type": "execute_result",
          "data": {
            "text/plain": [
              "            food   ambience    service     rating\n",
              "count  15.000000  15.000000  15.000000  15.000000\n",
              "mean   73.133333  81.733333  75.133333  73.066667\n",
              "std     6.555986   9.786774   8.069932   8.319226\n",
              "min    64.000000  68.000000  56.000000  54.000000\n",
              "25%    68.500000  71.000000  73.500000  70.500000\n",
              "50%    72.000000  82.000000  78.000000  74.000000\n",
              "75%    77.500000  90.000000  78.000000  77.500000\n",
              "max    85.000000  96.000000  89.000000  85.000000"
            ],
            "text/html": [
              "\n",
              "  <div id=\"df-79c3c98e-3000-496a-ad11-83f946c2eb4a\" class=\"colab-df-container\">\n",
              "    <div>\n",
              "<style scoped>\n",
              "    .dataframe tbody tr th:only-of-type {\n",
              "        vertical-align: middle;\n",
              "    }\n",
              "\n",
              "    .dataframe tbody tr th {\n",
              "        vertical-align: top;\n",
              "    }\n",
              "\n",
              "    .dataframe thead th {\n",
              "        text-align: right;\n",
              "    }\n",
              "</style>\n",
              "<table border=\"1\" class=\"dataframe\">\n",
              "  <thead>\n",
              "    <tr style=\"text-align: right;\">\n",
              "      <th></th>\n",
              "      <th>food</th>\n",
              "      <th>ambience</th>\n",
              "      <th>service</th>\n",
              "      <th>rating</th>\n",
              "    </tr>\n",
              "  </thead>\n",
              "  <tbody>\n",
              "    <tr>\n",
              "      <th>count</th>\n",
              "      <td>15.000000</td>\n",
              "      <td>15.000000</td>\n",
              "      <td>15.000000</td>\n",
              "      <td>15.000000</td>\n",
              "    </tr>\n",
              "    <tr>\n",
              "      <th>mean</th>\n",
              "      <td>73.133333</td>\n",
              "      <td>81.733333</td>\n",
              "      <td>75.133333</td>\n",
              "      <td>73.066667</td>\n",
              "    </tr>\n",
              "    <tr>\n",
              "      <th>std</th>\n",
              "      <td>6.555986</td>\n",
              "      <td>9.786774</td>\n",
              "      <td>8.069932</td>\n",
              "      <td>8.319226</td>\n",
              "    </tr>\n",
              "    <tr>\n",
              "      <th>min</th>\n",
              "      <td>64.000000</td>\n",
              "      <td>68.000000</td>\n",
              "      <td>56.000000</td>\n",
              "      <td>54.000000</td>\n",
              "    </tr>\n",
              "    <tr>\n",
              "      <th>25%</th>\n",
              "      <td>68.500000</td>\n",
              "      <td>71.000000</td>\n",
              "      <td>73.500000</td>\n",
              "      <td>70.500000</td>\n",
              "    </tr>\n",
              "    <tr>\n",
              "      <th>50%</th>\n",
              "      <td>72.000000</td>\n",
              "      <td>82.000000</td>\n",
              "      <td>78.000000</td>\n",
              "      <td>74.000000</td>\n",
              "    </tr>\n",
              "    <tr>\n",
              "      <th>75%</th>\n",
              "      <td>77.500000</td>\n",
              "      <td>90.000000</td>\n",
              "      <td>78.000000</td>\n",
              "      <td>77.500000</td>\n",
              "    </tr>\n",
              "    <tr>\n",
              "      <th>max</th>\n",
              "      <td>85.000000</td>\n",
              "      <td>96.000000</td>\n",
              "      <td>89.000000</td>\n",
              "      <td>85.000000</td>\n",
              "    </tr>\n",
              "  </tbody>\n",
              "</table>\n",
              "</div>\n",
              "    <div class=\"colab-df-buttons\">\n",
              "\n",
              "  <div class=\"colab-df-container\">\n",
              "    <button class=\"colab-df-convert\" onclick=\"convertToInteractive('df-79c3c98e-3000-496a-ad11-83f946c2eb4a')\"\n",
              "            title=\"Convert this dataframe to an interactive table.\"\n",
              "            style=\"display:none;\">\n",
              "\n",
              "  <svg xmlns=\"http://www.w3.org/2000/svg\" height=\"24px\" viewBox=\"0 -960 960 960\">\n",
              "    <path d=\"M120-120v-720h720v720H120Zm60-500h600v-160H180v160Zm220 220h160v-160H400v160Zm0 220h160v-160H400v160ZM180-400h160v-160H180v160Zm440 0h160v-160H620v160ZM180-180h160v-160H180v160Zm440 0h160v-160H620v160Z\"/>\n",
              "  </svg>\n",
              "    </button>\n",
              "\n",
              "  <style>\n",
              "    .colab-df-container {\n",
              "      display:flex;\n",
              "      gap: 12px;\n",
              "    }\n",
              "\n",
              "    .colab-df-convert {\n",
              "      background-color: #E8F0FE;\n",
              "      border: none;\n",
              "      border-radius: 50%;\n",
              "      cursor: pointer;\n",
              "      display: none;\n",
              "      fill: #1967D2;\n",
              "      height: 32px;\n",
              "      padding: 0 0 0 0;\n",
              "      width: 32px;\n",
              "    }\n",
              "\n",
              "    .colab-df-convert:hover {\n",
              "      background-color: #E2EBFA;\n",
              "      box-shadow: 0px 1px 2px rgba(60, 64, 67, 0.3), 0px 1px 3px 1px rgba(60, 64, 67, 0.15);\n",
              "      fill: #174EA6;\n",
              "    }\n",
              "\n",
              "    .colab-df-buttons div {\n",
              "      margin-bottom: 4px;\n",
              "    }\n",
              "\n",
              "    [theme=dark] .colab-df-convert {\n",
              "      background-color: #3B4455;\n",
              "      fill: #D2E3FC;\n",
              "    }\n",
              "\n",
              "    [theme=dark] .colab-df-convert:hover {\n",
              "      background-color: #434B5C;\n",
              "      box-shadow: 0px 1px 3px 1px rgba(0, 0, 0, 0.15);\n",
              "      filter: drop-shadow(0px 1px 2px rgba(0, 0, 0, 0.3));\n",
              "      fill: #FFFFFF;\n",
              "    }\n",
              "  </style>\n",
              "\n",
              "    <script>\n",
              "      const buttonEl =\n",
              "        document.querySelector('#df-79c3c98e-3000-496a-ad11-83f946c2eb4a button.colab-df-convert');\n",
              "      buttonEl.style.display =\n",
              "        google.colab.kernel.accessAllowed ? 'block' : 'none';\n",
              "\n",
              "      async function convertToInteractive(key) {\n",
              "        const element = document.querySelector('#df-79c3c98e-3000-496a-ad11-83f946c2eb4a');\n",
              "        const dataTable =\n",
              "          await google.colab.kernel.invokeFunction('convertToInteractive',\n",
              "                                                    [key], {});\n",
              "        if (!dataTable) return;\n",
              "\n",
              "        const docLinkHtml = 'Like what you see? Visit the ' +\n",
              "          '<a target=\"_blank\" href=https://colab.research.google.com/notebooks/data_table.ipynb>data table notebook</a>'\n",
              "          + ' to learn more about interactive tables.';\n",
              "        element.innerHTML = '';\n",
              "        dataTable['output_type'] = 'display_data';\n",
              "        await google.colab.output.renderOutput(dataTable, element);\n",
              "        const docLink = document.createElement('div');\n",
              "        docLink.innerHTML = docLinkHtml;\n",
              "        element.appendChild(docLink);\n",
              "      }\n",
              "    </script>\n",
              "  </div>\n",
              "\n",
              "\n",
              "<div id=\"df-f27b641c-10a3-4be7-b806-a4dcd703095d\">\n",
              "  <button class=\"colab-df-quickchart\" onclick=\"quickchart('df-f27b641c-10a3-4be7-b806-a4dcd703095d')\"\n",
              "            title=\"Suggest charts\"\n",
              "            style=\"display:none;\">\n",
              "\n",
              "<svg xmlns=\"http://www.w3.org/2000/svg\" height=\"24px\"viewBox=\"0 0 24 24\"\n",
              "     width=\"24px\">\n",
              "    <g>\n",
              "        <path d=\"M19 3H5c-1.1 0-2 .9-2 2v14c0 1.1.9 2 2 2h14c1.1 0 2-.9 2-2V5c0-1.1-.9-2-2-2zM9 17H7v-7h2v7zm4 0h-2V7h2v10zm4 0h-2v-4h2v4z\"/>\n",
              "    </g>\n",
              "</svg>\n",
              "  </button>\n",
              "\n",
              "<style>\n",
              "  .colab-df-quickchart {\n",
              "      --bg-color: #E8F0FE;\n",
              "      --fill-color: #1967D2;\n",
              "      --hover-bg-color: #E2EBFA;\n",
              "      --hover-fill-color: #174EA6;\n",
              "      --disabled-fill-color: #AAA;\n",
              "      --disabled-bg-color: #DDD;\n",
              "  }\n",
              "\n",
              "  [theme=dark] .colab-df-quickchart {\n",
              "      --bg-color: #3B4455;\n",
              "      --fill-color: #D2E3FC;\n",
              "      --hover-bg-color: #434B5C;\n",
              "      --hover-fill-color: #FFFFFF;\n",
              "      --disabled-bg-color: #3B4455;\n",
              "      --disabled-fill-color: #666;\n",
              "  }\n",
              "\n",
              "  .colab-df-quickchart {\n",
              "    background-color: var(--bg-color);\n",
              "    border: none;\n",
              "    border-radius: 50%;\n",
              "    cursor: pointer;\n",
              "    display: none;\n",
              "    fill: var(--fill-color);\n",
              "    height: 32px;\n",
              "    padding: 0;\n",
              "    width: 32px;\n",
              "  }\n",
              "\n",
              "  .colab-df-quickchart:hover {\n",
              "    background-color: var(--hover-bg-color);\n",
              "    box-shadow: 0 1px 2px rgba(60, 64, 67, 0.3), 0 1px 3px 1px rgba(60, 64, 67, 0.15);\n",
              "    fill: var(--button-hover-fill-color);\n",
              "  }\n",
              "\n",
              "  .colab-df-quickchart-complete:disabled,\n",
              "  .colab-df-quickchart-complete:disabled:hover {\n",
              "    background-color: var(--disabled-bg-color);\n",
              "    fill: var(--disabled-fill-color);\n",
              "    box-shadow: none;\n",
              "  }\n",
              "\n",
              "  .colab-df-spinner {\n",
              "    border: 2px solid var(--fill-color);\n",
              "    border-color: transparent;\n",
              "    border-bottom-color: var(--fill-color);\n",
              "    animation:\n",
              "      spin 1s steps(1) infinite;\n",
              "  }\n",
              "\n",
              "  @keyframes spin {\n",
              "    0% {\n",
              "      border-color: transparent;\n",
              "      border-bottom-color: var(--fill-color);\n",
              "      border-left-color: var(--fill-color);\n",
              "    }\n",
              "    20% {\n",
              "      border-color: transparent;\n",
              "      border-left-color: var(--fill-color);\n",
              "      border-top-color: var(--fill-color);\n",
              "    }\n",
              "    30% {\n",
              "      border-color: transparent;\n",
              "      border-left-color: var(--fill-color);\n",
              "      border-top-color: var(--fill-color);\n",
              "      border-right-color: var(--fill-color);\n",
              "    }\n",
              "    40% {\n",
              "      border-color: transparent;\n",
              "      border-right-color: var(--fill-color);\n",
              "      border-top-color: var(--fill-color);\n",
              "    }\n",
              "    60% {\n",
              "      border-color: transparent;\n",
              "      border-right-color: var(--fill-color);\n",
              "    }\n",
              "    80% {\n",
              "      border-color: transparent;\n",
              "      border-right-color: var(--fill-color);\n",
              "      border-bottom-color: var(--fill-color);\n",
              "    }\n",
              "    90% {\n",
              "      border-color: transparent;\n",
              "      border-bottom-color: var(--fill-color);\n",
              "    }\n",
              "  }\n",
              "</style>\n",
              "\n",
              "  <script>\n",
              "    async function quickchart(key) {\n",
              "      const quickchartButtonEl =\n",
              "        document.querySelector('#' + key + ' button');\n",
              "      quickchartButtonEl.disabled = true;  // To prevent multiple clicks.\n",
              "      quickchartButtonEl.classList.add('colab-df-spinner');\n",
              "      try {\n",
              "        const charts = await google.colab.kernel.invokeFunction(\n",
              "            'suggestCharts', [key], {});\n",
              "      } catch (error) {\n",
              "        console.error('Error during call to suggestCharts:', error);\n",
              "      }\n",
              "      quickchartButtonEl.classList.remove('colab-df-spinner');\n",
              "      quickchartButtonEl.classList.add('colab-df-quickchart-complete');\n",
              "    }\n",
              "    (() => {\n",
              "      let quickchartButtonEl =\n",
              "        document.querySelector('#df-f27b641c-10a3-4be7-b806-a4dcd703095d button');\n",
              "      quickchartButtonEl.style.display =\n",
              "        google.colab.kernel.accessAllowed ? 'block' : 'none';\n",
              "    })();\n",
              "  </script>\n",
              "</div>\n",
              "    </div>\n",
              "  </div>\n"
            ],
            "application/vnd.google.colaboratory.intrinsic+json": {
              "type": "dataframe",
              "summary": "{\n  \"name\": \"res_Ratingmod\",\n  \"rows\": 8,\n  \"fields\": [\n    {\n      \"column\": \"food\",\n      \"properties\": {\n        \"dtype\": \"number\",\n        \"std\": 29.70170016530296,\n        \"min\": 6.555985996091844,\n        \"max\": 85.0,\n        \"num_unique_values\": 8,\n        \"samples\": [\n          73.13333333333334,\n          72.0,\n          15.0\n        ],\n        \"semantic_type\": \"\",\n        \"description\": \"\"\n      }\n    },\n    {\n      \"column\": \"ambience\",\n      \"properties\": {\n        \"dtype\": \"number\",\n        \"std\": 33.25927605182096,\n        \"min\": 9.786774360378008,\n        \"max\": 96.0,\n        \"num_unique_values\": 8,\n        \"samples\": [\n          81.73333333333333,\n          82.0,\n          15.0\n        ],\n        \"semantic_type\": \"\",\n        \"description\": \"\"\n      }\n    },\n    {\n      \"column\": \"service\",\n      \"properties\": {\n        \"dtype\": \"number\",\n        \"std\": 30.77880626029477,\n        \"min\": 8.069932436136595,\n        \"max\": 89.0,\n        \"num_unique_values\": 7,\n        \"samples\": [\n          15.0,\n          75.13333333333334,\n          78.0\n        ],\n        \"semantic_type\": \"\",\n        \"description\": \"\"\n      }\n    },\n    {\n      \"column\": \"rating\",\n      \"properties\": {\n        \"dtype\": \"number\",\n        \"std\": 29.46236202491884,\n        \"min\": 8.319226154488396,\n        \"max\": 85.0,\n        \"num_unique_values\": 8,\n        \"samples\": [\n          73.06666666666666,\n          74.0,\n          15.0\n        ],\n        \"semantic_type\": \"\",\n        \"description\": \"\"\n      }\n    }\n  ]\n}"
            }
          },
          "metadata": {},
          "execution_count": 9
        }
      ]
    },
    {
      "cell_type": "markdown",
      "source": [
        "The statistics of the features fall under close ranges. The range of each statistical calculation between the features falls under 15. The range of the mean calculation between the features is approximately 8.7.\n",
        "\n",
        "Info:\n",
        "> The dataset has similar scales."
      ],
      "metadata": {
        "id": "5_5eP2OmT-ca"
      }
    },
    {
      "cell_type": "markdown",
      "source": [
        "We will check the correlation of the attributes to determine the contributors / useful independent features necessary for the development of the prediction models in the next stages."
      ],
      "metadata": {
        "id": "h-4mzNEnJ9kM"
      }
    },
    {
      "cell_type": "code",
      "source": [
        "#correlation plot\n",
        "corr_matrix = res_Ratingmod.corr()\n",
        "sns.heatmap(corr_matrix, annot=True, cmap='coolwarm')\n",
        "plt.show()"
      ],
      "metadata": {
        "colab": {
          "base_uri": "https://localhost:8080/",
          "height": 435
        },
        "id": "SsuvOwzAYBDD",
        "outputId": "2dee7629-a1a6-4735-e33a-b499164de23e"
      },
      "execution_count": null,
      "outputs": [
        {
          "output_type": "display_data",
          "data": {
            "text/plain": [
              "<Figure size 640x480 with 2 Axes>"
            ],
            "image/png": "[encoded data removed]"
          },
          "metadata": {}
        }
      ]
    },
    {
      "cell_type": "markdown",
      "source": [
        "The correlation of 'rating' vs 'ambience' and 'service' vs 'ambience' are the lowest. Which indicates no correlation between those attributes since they are closest to 0.\n",
        "\n",
        "The attribute, 'ambience', is not correlated to any of the attributes.\n",
        "\n",
        "The correlation of 'rating' vs 'food' is the highest and it is a positive correlation, followed by the correlation of 'rating' vs 'service'. Additionally, the correlation 'service' vs 'food' is positive.\n",
        "\n",
        "Info:\n",
        "> The feature 'ambience' is not correlated to any of the features. So could be excluded from further analysis.\n",
        "\n",
        "> The features 'food' and 'service' show a positive correlation between themselves and the target,' rating', thus will be used for further analysis."
      ],
      "metadata": {
        "id": "ekOXw2yScbcL"
      }
    },
    {
      "cell_type": "markdown",
      "source": [
        "The variable 'food' appears to have the strongest correlation with 'rating'. We will check if there are any outliers with the values to better help with model development and outlier identification."
      ],
      "metadata": {
        "id": "WhixnJo6KfIT"
      }
    },
    {
      "cell_type": "code",
      "source": [
        "#Boxplot of 'food'\n",
        "sns.boxplot(x = res_Ratingmod['food'])\n",
        "plt.title(\"Box Plot of 'food'\")\n",
        "plt.show()"
      ],
      "metadata": {
        "colab": {
          "base_uri": "https://localhost:8080/",
          "height": 472
        },
        "id": "xmvAl-NXjMJM",
        "outputId": "67186efe-0900-4d05-a6d4-8985ed2504db"
      },
      "execution_count": null,
      "outputs": [
        {
          "output_type": "display_data",
          "data": {
            "text/plain": [
              "<Figure size 640x480 with 1 Axes>"
            ],
            "image/png": "[encoded data removed]"
          },
          "metadata": {}
        }
      ]
    },
    {
      "cell_type": "markdown",
      "source": [
        "Info:\n",
        "> There are no outliers in the 'food' data."
      ],
      "metadata": {
        "id": "_pJqQ4c9jcf0"
      }
    },
    {
      "cell_type": "code",
      "source": [
        "#Scatter plot of 'rating' and 'food'\n",
        "plt.scatter(res_Ratingmod['rating'], res_Ratingmod['food'])\n",
        "plt.title('Scatter Plot: rating vs food')\n",
        "plt.show()"
      ],
      "metadata": {
        "colab": {
          "base_uri": "https://localhost:8080/",
          "height": 452
        },
        "id": "54gQsvf0fEiz",
        "outputId": "38f90b84-f77c-491f-b991-c5d06938ab3e"
      },
      "execution_count": null,
      "outputs": [
        {
          "output_type": "display_data",
          "data": {
            "text/plain": [
              "<Figure size 640x480 with 1 Axes>"
            ],
            "image/png": "[encoded data removed]"
          },
          "metadata": {}
        }
      ]
    },
    {
      "cell_type": "code",
      "source": [
        "#Scatter plot of 'rating' and 'service'\n",
        "plt.scatter(res_Ratingmod['rating'], res_Ratingmod['service'])\n",
        "plt.title('Scatter Plot: rating vs service')\n",
        "plt.show()"
      ],
      "metadata": {
        "colab": {
          "base_uri": "https://localhost:8080/",
          "height": 452
        },
        "id": "01p0GVaxjfwc",
        "outputId": "9438c88d-073e-41e6-a0b5-8ed094e4a3b5"
      },
      "execution_count": null,
      "outputs": [
        {
          "output_type": "display_data",
          "data": {
            "text/plain": [
              "<Figure size 640x480 with 1 Axes>"
            ],
            "image/png": "[encoded data removed]"
          },
          "metadata": {}
        }
      ]
    },
    {
      "cell_type": "markdown",
      "source": [
        "Info:\n",
        "> The scatter of 'food' vs 'rating' follows a more linear path than that of 'service' vs 'rating'. This emphasizes the 'food' attribute has the strongest correlation with the target value than the 'service' attribute."
      ],
      "metadata": {
        "id": "bGS6ldLHLIEW"
      }
    },
    {
      "cell_type": "markdown",
      "source": [
        "**EDA Conclusion**\n",
        "\n",
        " > The dataset contains low-data: dimensions (15,5), and it is a fully populated dataset with no missing values.\n",
        "\n",
        " > The relevant attributes are 'rating', 'food', and 'service'; they indicated a positive correlation among themselves: as one attribute increases in value, the other attribute also increases in value.\n",
        "\n",
        " > The restaurant ratings by the customers were highly influenced by food, followed by the service of the restaurant.\n",
        "\n",
        "> For regression purposes, we will use 'rating' and 'food' to train the simple linear regression model and 'service' and 'rating' since they showed the highest correlation with 'rating'. Additionally, we will use 'food' and 'service' vs 'rating' to train the multiple linear regression model."
      ],
      "metadata": {
        "id": "S98bi-2Yfaj8"
      }
    },
    {
      "cell_type": "markdown",
      "metadata": {
        "id": "VA4uW5iN5ds4"
      },
      "source": [
        "# Project A: Simple Linear Regression"
      ]
    },
    {
      "cell_type": "markdown",
      "source": [
        "Model I: We will build the regression model using y = 'rating' and x = 'food', since they yield a positive correlation and the highest out of all the other features.\n",
        "\n",
        "We will find a linear relationship between 'food' and 'rating' by estimating the values of intercept and constant (y = mX + c)."
      ],
      "metadata": {
        "id": "0lQecExuoCu9"
      }
    },
    {
      "cell_type": "code",
      "source": [
        "#Extract the independent feature\n",
        "X = res_Ratingmod['food']"
      ],
      "metadata": {
        "id": "Ipu5vSnNpyh7"
      },
      "execution_count": null,
      "outputs": []
    },
    {
      "cell_type": "code",
      "source": [
        "#Extract the dependent feature\n",
        "y = res_Ratingmod['rating']"
      ],
      "metadata": {
        "id": "ggfgceJJp7lP"
      },
      "execution_count": null,
      "outputs": []
    },
    {
      "cell_type": "code",
      "source": [
        "#Add the constant term to the predictor\n",
        "X = sm.add_constant(X)"
      ],
      "metadata": {
        "id": "m6o5jZ_bn0Kg"
      },
      "execution_count": null,
      "outputs": []
    },
    {
      "cell_type": "code",
      "source": [
        "# Train the Linear Regression model using OLS\n",
        "modelI = sm.OLS(y,X).fit()"
      ],
      "metadata": {
        "id": "Uza3rEUcqTVC"
      },
      "execution_count": null,
      "outputs": []
    },
    {
      "cell_type": "code",
      "source": [
        "#Look at the model using the summary method\n",
        "print(modelI.summary())"
      ],
      "metadata": {
        "colab": {
          "base_uri": "https://localhost:8080/"
        },
        "id": "8MgqhjuLrub1",
        "outputId": "64158a8e-0212-4676-ebc2-4adc6bf12ed5"
      },
      "execution_count": null,
      "outputs": [
        {
          "output_type": "stream",
          "name": "stdout",
          "text": [
            "                            OLS Regression Results                            \n",
            "==============================================================================\n",
            "Dep. Variable:                 rating   R-squared:                       0.704\n",
            "Model:                            OLS   Adj. R-squared:                  0.682\n",
            "Method:                 Least Squares   F-statistic:                     30.98\n",
            "Date:                Mon, 11 Mar 2024   Prob (F-statistic):           9.13e-05\n",
            "Time:                        01:33:25   Log-Likelihood:                -43.404\n",
            "No. Observations:                  15   AIC:                             90.81\n",
            "Df Residuals:                      13   BIC:                             92.22\n",
            "Df Model:                           1                                         \n",
            "Covariance Type:            nonrobust                                         \n",
            "==============================================================================\n",
            "                 coef    std err          t      P>|t|      [0.025      0.975]\n",
            "------------------------------------------------------------------------------\n",
            "const         -4.8228     14.046     -0.343      0.737     -35.167      25.521\n",
            "food           1.0650      0.191      5.566      0.000       0.652       1.478\n",
            "==============================================================================\n",
            "Omnibus:                        3.839   Durbin-Watson:                   2.348\n",
            "Prob(Omnibus):                  0.147   Jarque-Bera (JB):                1.766\n",
            "Skew:                          -0.804   Prob(JB):                        0.413\n",
            "Kurtosis:                       3.492   Cond. No.                         851.\n",
            "==============================================================================\n",
            "\n",
            "Notes:\n",
            "[1] Standard Errors assume that the covariance matrix of the errors is correctly specified.\n"
          ]
        },
        {
          "output_type": "stream",
          "name": "stderr",
          "text": [
            "/usr/local/lib/python3.10/dist-packages/scipy/stats/_stats_py.py:1806: UserWarning: kurtosistest only valid for n>=20 ... continuing anyway, n=15\n",
            "  warnings.warn(\"kurtosistest only valid for n>=20 ... continuing \"\n"
          ]
        }
      ]
    },
    {
      "cell_type": "markdown",
      "source": [
        "Info:\n",
        "> From the above model, food and rating are related by the equation:     \n",
        "     rating = (1.0650 * food) - 4.8228.\n",
        "\n"
      ],
      "metadata": {
        "id": "bCYpwzVVsAzK"
      }
    },
    {
      "cell_type": "code",
      "source": [
        "#Predict the rating using the built model\n",
        "y_hat = modelI.predict(X)"
      ],
      "metadata": {
        "id": "G3K-ijzgsz8k"
      },
      "execution_count": null,
      "outputs": []
    },
    {
      "cell_type": "code",
      "source": [
        "#Visualize the relationship\n",
        "plt.scatter(X.food, y)\n",
        "plt.xlabel(\"Food\")\n",
        "plt.ylabel(\"Rating\")\n",
        "plt.plot(X.food, y_hat, \"red\")"
      ],
      "metadata": {
        "colab": {
          "base_uri": "https://localhost:8080/",
          "height": 467
        },
        "id": "YRdxLtR3srKi",
        "outputId": "bd02c1b0-bd77-4922-ee62-014abfebb15e"
      },
      "execution_count": null,
      "outputs": [
        {
          "output_type": "execute_result",
          "data": {
            "text/plain": [
              "[<matplotlib.lines.Line2D at 0x7c097af23970>]"
            ]
          },
          "metadata": {},
          "execution_count": 20
        },
        {
          "output_type": "display_data",
          "data": {
            "text/plain": [
              "<Figure size 640x480 with 1 Axes>"
            ],
            "image/png": "[encoded data removed]"
          },
          "metadata": {}
        }
      ]
    },
    {
      "cell_type": "markdown",
      "source": [
        "Model II: We will build the regression model using y = 'rating' and x = 'service' since they also yield a positive correlation.\n",
        "\n",
        "We will find a linear relationship between 'service' and 'rating' by estimating the values of intercept and constant (y = mX + c)."
      ],
      "metadata": {
        "id": "9_hwWmdw1LJk"
      }
    },
    {
      "cell_type": "code",
      "source": [
        "#Extract the independent feature\n",
        "X = res_Ratingmod['service']"
      ],
      "metadata": {
        "id": "QNLVzEXt1R_X"
      },
      "execution_count": null,
      "outputs": []
    },
    {
      "cell_type": "code",
      "source": [
        "#Extract the dependent feature\n",
        "y = res_Ratingmod['rating']"
      ],
      "metadata": {
        "id": "3lcWdCCh5BAi"
      },
      "execution_count": null,
      "outputs": []
    },
    {
      "cell_type": "code",
      "source": [
        "#Add the constant term to the predictor\n",
        "X = sm.add_constant(X)"
      ],
      "metadata": {
        "id": "ETigf3e15FIG"
      },
      "execution_count": null,
      "outputs": []
    },
    {
      "cell_type": "code",
      "source": [
        "# Train the Linear Regression model using OLS\n",
        "modelII = sm.OLS(y,X).fit()"
      ],
      "metadata": {
        "id": "N2F1NhO-5KG2"
      },
      "execution_count": null,
      "outputs": []
    },
    {
      "cell_type": "code",
      "source": [
        "#Look at the model using the summary method\n",
        "print(modelII.summary())"
      ],
      "metadata": {
        "colab": {
          "base_uri": "https://localhost:8080/"
        },
        "id": "o63tEqJY5Nzl",
        "outputId": "85befe79-b238-404d-9cd6-cebf80795787"
      },
      "execution_count": null,
      "outputs": [
        {
          "output_type": "stream",
          "name": "stdout",
          "text": [
            "                            OLS Regression Results                            \n",
            "==============================================================================\n",
            "Dep. Variable:                 rating   R-squared:                       0.635\n",
            "Model:                            OLS   Adj. R-squared:                  0.607\n",
            "Method:                 Least Squares   F-statistic:                     22.60\n",
            "Date:                Mon, 11 Mar 2024   Prob (F-statistic):           0.000377\n",
            "Time:                        01:33:25   Log-Likelihood:                -44.990\n",
            "No. Observations:                  15   AIC:                             93.98\n",
            "Df Residuals:                      13   BIC:                             95.40\n",
            "Df Model:                           1                                         \n",
            "Covariance Type:            nonrobust                                         \n",
            "==============================================================================\n",
            "                 coef    std err          t      P>|t|      [0.025      0.975]\n",
            "------------------------------------------------------------------------------\n",
            "const         11.3547     13.051      0.870      0.400     -16.841      39.550\n",
            "service        0.8214      0.173      4.754      0.000       0.448       1.195\n",
            "==============================================================================\n",
            "Omnibus:                        2.169   Durbin-Watson:                   1.789\n",
            "Prob(Omnibus):                  0.338   Jarque-Bera (JB):                1.047\n",
            "Skew:                          -0.647   Prob(JB):                        0.593\n",
            "Kurtosis:                       3.038   Cond. No.                         732.\n",
            "==============================================================================\n",
            "\n",
            "Notes:\n",
            "[1] Standard Errors assume that the covariance matrix of the errors is correctly specified.\n"
          ]
        },
        {
          "output_type": "stream",
          "name": "stderr",
          "text": [
            "/usr/local/lib/python3.10/dist-packages/scipy/stats/_stats_py.py:1806: UserWarning: kurtosistest only valid for n>=20 ... continuing anyway, n=15\n",
            "  warnings.warn(\"kurtosistest only valid for n>=20 ... continuing \"\n"
          ]
        }
      ]
    },
    {
      "cell_type": "markdown",
      "source": [
        "From the above model, service and rating are related by the equation:\n",
        "\n",
        " rating = (0.8214 * service) + 11.3547."
      ],
      "metadata": {
        "id": "FHFFTAfW5ZUB"
      }
    },
    {
      "cell_type": "code",
      "source": [
        "#Predict the rating using the built model\n",
        "y_hat = modelII.predict(X)"
      ],
      "metadata": {
        "id": "hDPgqDGe5ZrO"
      },
      "execution_count": null,
      "outputs": []
    },
    {
      "cell_type": "code",
      "source": [
        "#Visualize the relationship\n",
        "plt.scatter(X.service, y)\n",
        "plt.xlabel(\"Service\")\n",
        "plt.ylabel(\"Rating\")\n",
        "plt.plot(X.service, y_hat, \"red\")"
      ],
      "metadata": {
        "colab": {
          "base_uri": "https://localhost:8080/",
          "height": 467
        },
        "id": "rMEeJiaD5iva",
        "outputId": "ca77e9b6-6822-4ece-b8d0-76a176cce954"
      },
      "execution_count": null,
      "outputs": [
        {
          "output_type": "execute_result",
          "data": {
            "text/plain": [
              "[<matplotlib.lines.Line2D at 0x7c097ac80490>]"
            ]
          },
          "metadata": {},
          "execution_count": 27
        },
        {
          "output_type": "display_data",
          "data": {
            "text/plain": [
              "<Figure size 640x480 with 1 Axes>"
            ],
            "image/png": "[encoded data removed]"
          },
          "metadata": {}
        }
      ]
    },
    {
      "cell_type": "markdown",
      "source": [
        "**OLS Regression Results Model I and Model II Evaluation**\n",
        "\n",
        "> R-Squared: Model I produced a higher value for the coefficient of determination than Model II, with a difference of approximately 0.069/7. Since 0.704, is closer to 1, than 0.635 this indicates that the prediction of the rating is better using Model I than Model II. Additionally, approximately 70% of the rating is explained by the food attribute.\n",
        "\n",
        "Adj. R-squared and F-statistic and Prob (F-statistic) are not considered since these models use single independent features.\n",
        "\n",
        "> Log-Likelihood: Model I = -43.404 has a larger value than Model II = -44.990. Thus, Model I is a better fit: it has a higher probability of observing data than Model II.\n",
        "\n",
        "> AIC: Model I has a lower value than Model II, this indicates that Model I is a better model than Model II. However, we should also keep in mind that we are working with a low-data dataset and AIC is more appropriate when the data size is large. Model I produces a better tradeoff between the goodness of fit and the number of parameters of the model than Model II does.\n",
        "\n",
        "> BIC: Model I has a lower BIC result than Model II. This indicates that Model I is a better prediction model than Model II and since BIC is more appropriate with small datasets like the RestaurantRatings dataset, this emphasizes Model I to be a better predictor than Model II.\n",
        "\n",
        "> Standard Deviation: Model II has smaller values of standard error than Model I which indicates that Model II has smaller residual error compared to Model I. The difference is approximated to be const: 0.995 and service/food: 0.018. Thus, Model II has slightly fewer error/regression residual values that Model I.\n",
        "\n",
        "> t-statistics: Model II produced a signifcance value of 4.754, this indicates that the independent variable 'service' is statistically significant in the regression model. Additionally Model I produced a signifcance value of 5.566, this indicates that the independent variable 'food' is statistically significant in the regression model.\n",
        "\n",
        "> P > |t|: Both Model I and Model II produced coefficients that are statisticaly significant, because the p-value is less than the chosen level of significance indicated above [t-statistics]. Thus, the independent feature in both models is significantly associated with the dependent feature,'rating'.\n",
        "\n",
        "> Confidence interval: Both Models represent a 97% confidence interval, thus, there is a 97% chance that the estimated regression coefficient lies within the interval.\n",
        "\n",
        "> Omnibus and Prob(omnibus): Model I has greater significance value than Model II, thus, regression Model I as a whole significantly predicts the dependent feature better than Model II. Model I and Model II have p-values > 0.05, thus both models are not statistically significant, hence in both Models there is evidence that the independent features are not associated with the dependent feature.\n",
        "\n",
        "> Skewness: Both Models have a skew < 0. Therefore, the symmetry of the distribution of the residents have a longer left tail for both models.\n",
        "\n",
        "> Kurtosis: Both Models have a value of 3, thus the thickness of the residents of the the longer left tails is normal for both.\n",
        "\n",
        "> Durbin - Watson: Model I has a value > 2, indicating that there is negative correlation between the residuals of the model. While, Model II has a value < 2, indicating that the model has a positive correlation between the residuals. Hence, both models are adequately capturing the underlying patterns of the data.\n",
        "\n",
        "> Jarque-Bera: Both models have a small value of JB indicating the residuals of each model are normally distributed and they are each a good fit for the data.\n",
        "\n",
        "> Condition Number: This is a simple linear regression model, so only one independent variable was used in building the model, thus multicollinearity cannot be measured."
      ],
      "metadata": {
        "id": "j_JiKAG9s9uz"
      }
    },
    {
      "cell_type": "markdown",
      "source": [
        "**Conclusion**\n",
        "> Both the Model I and Model II are simple linear regression models. The prediction of the models are average.\n",
        "> Model I is a better predictor of the restaurant rating than Model II. This is because for the EDA 'food' has the highest positive correlation with rating.\n",
        "> Model I could be improved to have a better prediction value for the restaurant's rating."
      ],
      "metadata": {
        "id": "kHcun9Z6QOK5"
      }
    },
    {
      "cell_type": "markdown",
      "metadata": {
        "id": "ZKKmSe0P5kJ3"
      },
      "source": [
        "# Project B: Multiple Linear Regression"
      ]
    },
    {
      "cell_type": "markdown",
      "source": [
        "Model III: We will build a multiple linear regression model using y = 'rating' and x = 'food', and x = 'service' since they yield a positive correlation and the highest out of all the other features."
      ],
      "metadata": {
        "id": "mJS6LyIVQ9Di"
      }
    },
    {
      "cell_type": "code",
      "source": [
        "#Extracting Independent Features: food and service\n",
        "X_MR = res_Ratingmod[['food','service']]"
      ],
      "metadata": {
        "id": "RjfR0vQfPw7A"
      },
      "execution_count": null,
      "outputs": []
    },
    {
      "cell_type": "code",
      "source": [
        "#Extracting Dependent Feature: rating\n",
        "y = res_Ratingmod['rating']"
      ],
      "metadata": {
        "id": "09J1ymG9SPTj"
      },
      "execution_count": null,
      "outputs": []
    },
    {
      "cell_type": "code",
      "source": [
        "#Adding the constant value to the Independent Features\n",
        "X_MR = sm.add_constant(X_MR)"
      ],
      "metadata": {
        "id": "bx4uVBgGScs1"
      },
      "execution_count": null,
      "outputs": []
    },
    {
      "cell_type": "code",
      "source": [
        "#Build MLR Model\n",
        "ModelIII = sm.OLS(y, X_MR).fit()"
      ],
      "metadata": {
        "id": "xVe7Wu0qSr6C"
      },
      "execution_count": null,
      "outputs": []
    },
    {
      "cell_type": "code",
      "source": [
        "#Print the summary\n",
        "print(ModelIII.summary())"
      ],
      "metadata": {
        "colab": {
          "base_uri": "https://localhost:8080/"
        },
        "id": "h4VxqnEuS484",
        "outputId": "be632a47-8c64-4c5a-edc6-8e6039657f83"
      },
      "execution_count": null,
      "outputs": [
        {
          "output_type": "stream",
          "name": "stdout",
          "text": [
            "                            OLS Regression Results                            \n",
            "==============================================================================\n",
            "Dep. Variable:                 rating   R-squared:                       0.773\n",
            "Model:                            OLS   Adj. R-squared:                  0.735\n",
            "Method:                 Least Squares   F-statistic:                     20.42\n",
            "Date:                Mon, 11 Mar 2024   Prob (F-statistic):           0.000137\n",
            "Time:                        01:33:25   Log-Likelihood:                -41.429\n",
            "No. Observations:                  15   AIC:                             88.86\n",
            "Df Residuals:                      12   BIC:                             90.98\n",
            "Df Model:                           2                                         \n",
            "Covariance Type:            nonrobust                                         \n",
            "==============================================================================\n",
            "                 coef    std err          t      P>|t|      [0.025      0.975]\n",
            "------------------------------------------------------------------------------\n",
            "const         -8.2532     12.942     -0.638      0.536     -36.451      19.945\n",
            "food           0.7004      0.259      2.701      0.019       0.135       1.265\n",
            "service        0.4006      0.211      1.901      0.082      -0.058       0.860\n",
            "==============================================================================\n",
            "Omnibus:                        4.103   Durbin-Watson:                   2.124\n",
            "Prob(Omnibus):                  0.129   Jarque-Bera (JB):                2.432\n",
            "Skew:                          -0.986   Prob(JB):                        0.296\n",
            "Kurtosis:                       3.057   Cond. No.                     1.23e+03\n",
            "==============================================================================\n",
            "\n",
            "Notes:\n",
            "[1] Standard Errors assume that the covariance matrix of the errors is correctly specified.\n",
            "[2] The condition number is large, 1.23e+03. This might indicate that there are\n",
            "strong multicollinearity or other numerical problems.\n"
          ]
        },
        {
          "output_type": "stream",
          "name": "stderr",
          "text": [
            "/usr/local/lib/python3.10/dist-packages/scipy/stats/_stats_py.py:1806: UserWarning: kurtosistest only valid for n>=20 ... continuing anyway, n=15\n",
            "  warnings.warn(\"kurtosistest only valid for n>=20 ... continuing \"\n"
          ]
        }
      ]
    },
    {
      "cell_type": "markdown",
      "source": [
        "**Compare Model I, Model II and Model III**\n",
        "\n",
        "> R-Squared: Model I produced a higher value of 0.704 for the coefficient of determination than Model II which has a  value of 0.635. Model III has a value of 0.773 which is the closest to 1 than ModelI and ModelII. This indicates that that the prediction of the rating is better using Model III than Model I and Model II.\n",
        "\n",
        "> Adj. R-squared: Because R-squared is biased towards an increase in the number of independent features, when we considered the adjusted R - squared value: 0.735, Model III still has the highest value, making it the closest to 1 and thus a better predictor model, than the other two.\n",
        "\n",
        "> F-statistic and Prob (F-statistic): Model III =  20.42, Model II = 22.60 and Model I = 30.98. Thus, the independent feature of Model I is significantly related to  'rating' than that of Model III and Model II.\n",
        "\n",
        "> Log-Likelihood: Model I = -43.404, Model II = -44.990 and Model III = -41.429.\n",
        "Thus, Model III is a better fit: it has a higher probability of observing data than Model II and Model II.\n",
        "\n",
        "> AIC: Model I = 90.81, has a lower value than Model II = 93.98, this indicates that Model I is a better model than Model II. Model III = 88.86, Model III has the lowest AIC value of all the models. Thus, Model III produced a better model than Model I and Model II. However, we should also keep in mind that we are working with low-data dataset and AIC is more appropriate when the data size is large. Model III produces a better tradeoff between the goodness of fit and the number of parameters of the model than the simple linear models.\n",
        "\n",
        "> BIC: Model I = 92.22 has a lower value than Model II = 95.40 and Model III = 90.98 has the lowest value of all models. This indicates that Model III is a better prediction model than Model II and Model I, since BIC is more appropriate with small datasets like the RestaurantRatings, this emphasizes Model III to be a better predictor.\n",
        "\n",
        "> Standard Deviation: Model II has a smaller value of standard error than Model I which indicates that Model II has smaller residual error compared to Model I. The standard errors of the independent features is greater in Model III than in the other two models.\n",
        "\n",
        "> t-statistics: Model II has a signifcance value of 4.754, this indicates that the independent variable 'service' is statistically significant in the model. Additionally Model I has a signifacance value of 5.566, this indicates that the independent variable 'food' is statistically significant in the model. While Model III has a signifcance value of: 'food' = 2.701, which is greater than 2 and 'service' = 1.901, which is less than 2. This indicates that 'food' is the most satistically significant independent feature of Model III.\n",
        "\n",
        "> P > |t|: Both Model I and Model II produced coefficients that are statisticaly significant, because the p-value is less than the chosen level of significance. Thus, the independent feature in both models is significantly associated with the dependent feature,'rating'. In Model III the p-values for both food and service are lower than the chosen level of significance, thus the independent features are significantly associated with the dependent feature.\n",
        "\n",
        "> Confidence interval: All 3 models represent a 97% confidence interval, thus, there is a 97% chance that the estimated regression coefficient lies within the interval.\n",
        "\n",
        "> Omnibus and Prob(omnibus): All models have p-values > 0.05, the models are not statistically significant, hence each regression model as a whole does not significantly predict the dependent feature(s).\n",
        "\n",
        "> Skewness: All models have a skew < 0. Therefore, the symmetry of the distribution of the residents have a longer left tail for all models.\n",
        "\n",
        "> Kurtosis: All models have a value of 3, thus the thickness of the residents of the the longer left tails is normal all models.\n",
        "\n",
        "> Durbin - Watson: Model I and Model III have a value > 2, indicating that there is negative correlation between the residuals of the model. While, Model II has a value < 2, indicating that the model has a positive correlation between the residuals. Hence, all models are adequately capturing the underlying patterns of the data.\n",
        "\n",
        "> Jarque-Bera: All models have small values of JB indicating the residuals of each model are normally distributed and they are each a good fit for the data.\n",
        "\n",
        "> Condition Number: Model III has a low value of condition number. Thus, the independent features of the model have a low measure of multicolinearity."
      ],
      "metadata": {
        "id": "2EtdGKtsTLhM"
      }
    },
    {
      "cell_type": "code",
      "source": [
        "#Printing the parameters\n",
        "print(ModelIII.params)"
      ],
      "metadata": {
        "colab": {
          "base_uri": "https://localhost:8080/"
        },
        "id": "SCYZo9tXTL7-",
        "outputId": "85afad89-2643-4108-d068-86c7f34a2a6d"
      },
      "execution_count": null,
      "outputs": [
        {
          "output_type": "stream",
          "name": "stdout",
          "text": [
            "const     -8.253248\n",
            "food       0.700379\n",
            "service    0.400606\n",
            "dtype: float64\n"
          ]
        }
      ]
    },
    {
      "cell_type": "markdown",
      "source": [
        "**Conclusion**\n",
        "> Model III is a better predictor model for approximating the restaurant rating than Model I and Model II. This indicates that Multiple Linear Regression is a better prediction algorithm than Simple linear regression that uses one independent feature."
      ],
      "metadata": {
        "id": "X3KLpIToSdT8"
      }
    },
    {
      "cell_type": "markdown",
      "source": [
        "**Conclusion**\n"
      ],
      "metadata": {
        "id": "zYgxTzJUTnEc"
      }
    },
    {
      "cell_type": "markdown",
      "metadata": {
        "id": "-orzI4e95pr1"
      },
      "source": [
        "# Project C: Ridge and Lasso Regularization"
      ]
    },
    {
      "cell_type": "markdown",
      "source": [
        "Since we have predicted models using Simple Linear Regression and Multiple Linear Regression. We will build models using regularization to compare the accuracy of the different models.\n",
        "\n",
        "From the EDA, the features with correlation with 'rating' are 'food' and 'service'. While 'ambience' showed little to no correlation with the target/'rating'.\n",
        "\n"
      ],
      "metadata": {
        "id": "oXTYyr4xljsz"
      }
    },
    {
      "cell_type": "code",
      "source": [
        "#Extract Independent Features\n",
        "X = res_Ratingmod[['food','service','ambience']]\n",
        "X.shape"
      ],
      "metadata": {
        "colab": {
          "base_uri": "https://localhost:8080/"
        },
        "id": "BuDzMWpYpNRL",
        "outputId": "43cf8211-f07c-45c3-a180-fa47124f0476"
      },
      "execution_count": null,
      "outputs": [
        {
          "output_type": "execute_result",
          "data": {
            "text/plain": [
              "(15, 3)"
            ]
          },
          "metadata": {},
          "execution_count": 114
        }
      ]
    },
    {
      "cell_type": "code",
      "source": [
        "#Extract Dependent Feature\n",
        "y = res_Ratingmod['rating']\n",
        "y.shape"
      ],
      "metadata": {
        "colab": {
          "base_uri": "https://localhost:8080/"
        },
        "id": "7PwIenbsqkZw",
        "outputId": "4a53a53b-0dbb-4d79-88d5-9fa8f11c2579"
      },
      "execution_count": null,
      "outputs": [
        {
          "output_type": "execute_result",
          "data": {
            "text/plain": [
              "(15,)"
            ]
          },
          "metadata": {},
          "execution_count": 115
        }
      ]
    },
    {
      "cell_type": "code",
      "source": [
        "#Dividing the Dataset into Training and Test Sets for Evaluation\n",
        "from sklearn.model_selection import train_test_split\n",
        "X_train, X_test, y_train, y_test = train_test_split(X, y, test_size = 0.2)"
      ],
      "metadata": {
        "id": "Y4thg9hdq1LK"
      },
      "execution_count": null,
      "outputs": []
    },
    {
      "cell_type": "code",
      "source": [
        "#Build Ridge, Lasso, Regression Models\n",
        "lasso_model = linear_model.Lasso(alpha = 0.1)\n",
        "ridge_model = linear_model.Ridge(alpha = 0.1)"
      ],
      "metadata": {
        "id": "Ue9HYkU6rDJ9"
      },
      "execution_count": null,
      "outputs": []
    },
    {
      "cell_type": "code",
      "source": [
        "#Train the Models\n",
        "lasso_model.fit(X_train, y_train)\n",
        "ridge_model.fit(X_train, y_train)"
      ],
      "metadata": {
        "colab": {
          "base_uri": "https://localhost:8080/",
          "height": 75
        },
        "id": "zOVneut0tS1o",
        "outputId": "0a52c265-fd7f-4bc1-ddf1-70c32894e0b0"
      },
      "execution_count": null,
      "outputs": [
        {
          "output_type": "execute_result",
          "data": {
            "text/plain": [
              "Ridge(alpha=0.1)"
            ],
            "text/html": [
              "<style>#sk-container-id-18 {color: black;background-color: white;}#sk-container-id-18 pre{padding: 0;}#sk-container-id-18 div.sk-toggleable {background-color: white;}#sk-container-id-18 label.sk-toggleable__label {cursor: pointer;display: block;width: 100%;margin-bottom: 0;padding: 0.3em;box-sizing: border-box;text-align: center;}#sk-container-id-18 label.sk-toggleable__label-arrow:before {content: \"▸\";float: left;margin-right: 0.25em;color: #696969;}#sk-container-id-18 label.sk-toggleable__label-arrow:hover:before {color: black;}#sk-container-id-18 div.sk-estimator:hover label.sk-toggleable__label-arrow:before {color: black;}#sk-container-id-18 div.sk-toggleable__content {max-height: 0;max-width: 0;overflow: hidden;text-align: left;background-color: #f0f8ff;}#sk-container-id-18 div.sk-toggleable__content pre {margin: 0.2em;color: black;border-radius: 0.25em;background-color: #f0f8ff;}#sk-container-id-18 input.sk-toggleable__control:checked~div.sk-toggleable__content {max-height: 200px;max-width: 100%;overflow: auto;}#sk-container-id-18 input.sk-toggleable__control:checked~label.sk-toggleable__label-arrow:before {content: \"▾\";}#sk-container-id-18 div.sk-estimator input.sk-toggleable__control:checked~label.sk-toggleable__label {background-color: #d4ebff;}#sk-container-id-18 div.sk-label input.sk-toggleable__control:checked~label.sk-toggleable__label {background-color: #d4ebff;}#sk-container-id-18 input.sk-hidden--visually {border: 0;clip: rect(1px 1px 1px 1px);clip: rect(1px, 1px, 1px, 1px);height: 1px;margin: -1px;overflow: hidden;padding: 0;position: absolute;width: 1px;}#sk-container-id-18 div.sk-estimator {font-family: monospace;background-color: #f0f8ff;border: 1px dotted black;border-radius: 0.25em;box-sizing: border-box;margin-bottom: 0.5em;}#sk-container-id-18 div.sk-estimator:hover {background-color: #d4ebff;}#sk-container-id-18 div.sk-parallel-item::after {content: \"\";width: 100%;border-bottom: 1px solid gray;flex-grow: 1;}#sk-container-id-18 div.sk-label:hover label.sk-toggleable__label {background-color: #d4ebff;}#sk-container-id-18 div.sk-serial::before {content: \"\";position: absolute;border-left: 1px solid gray;box-sizing: border-box;top: 0;bottom: 0;left: 50%;z-index: 0;}#sk-container-id-18 div.sk-serial {display: flex;flex-direction: column;align-items: center;background-color: white;padding-right: 0.2em;padding-left: 0.2em;position: relative;}#sk-container-id-18 div.sk-item {position: relative;z-index: 1;}#sk-container-id-18 div.sk-parallel {display: flex;align-items: stretch;justify-content: center;background-color: white;position: relative;}#sk-container-id-18 div.sk-item::before, #sk-container-id-18 div.sk-parallel-item::before {content: \"\";position: absolute;border-left: 1px solid gray;box-sizing: border-box;top: 0;bottom: 0;left: 50%;z-index: -1;}#sk-container-id-18 div.sk-parallel-item {display: flex;flex-direction: column;z-index: 1;position: relative;background-color: white;}#sk-container-id-18 div.sk-parallel-item:first-child::after {align-self: flex-end;width: 50%;}#sk-container-id-18 div.sk-parallel-item:last-child::after {align-self: flex-start;width: 50%;}#sk-container-id-18 div.sk-parallel-item:only-child::after {width: 0;}#sk-container-id-18 div.sk-dashed-wrapped {border: 1px dashed gray;margin: 0 0.4em 0.5em 0.4em;box-sizing: border-box;padding-bottom: 0.4em;background-color: white;}#sk-container-id-18 div.sk-label label {font-family: monospace;font-weight: bold;display: inline-block;line-height: 1.2em;}#sk-container-id-18 div.sk-label-container {text-align: center;}#sk-container-id-18 div.sk-container {/* jupyter's `normalize.less` sets `[hidden] { display: none; }` but bootstrap.min.css set `[hidden] { display: none !important; }` so we also need the `!important` here to be able to override the default hidden behavior on the sphinx rendered scikit-learn.org. See: https://github.com/scikit-learn/scikit-learn/issues/21755 */display: inline-block !important;position: relative;}#sk-container-id-18 div.sk-text-repr-fallback {display: none;}</style><div id=\"sk-container-id-18\" class=\"sk-top-container\"><div class=\"sk-text-repr-fallback\"><pre>Ridge(alpha=0.1)</pre><b>In a Jupyter environment, please rerun this cell to show the HTML representation or trust the notebook. <br />On GitHub, the HTML representation is unable to render, please try loading this page with nbviewer.org.</b></div><div class=\"sk-container\" hidden><div class=\"sk-item\"><div class=\"sk-estimator sk-toggleable\"><input class=\"sk-toggleable__control sk-hidden--visually\" id=\"sk-estimator-id-18\" type=\"checkbox\" checked><label for=\"sk-estimator-id-18\" class=\"sk-toggleable__label sk-toggleable__label-arrow\">Ridge</label><div class=\"sk-toggleable__content\"><pre>Ridge(alpha=0.1)</pre></div></div></div></div></div>"
            ]
          },
          "metadata": {},
          "execution_count": 158
        }
      ]
    },
    {
      "cell_type": "code",
      "source": [
        "#Look at Regression coefficients\n",
        "print(f\"Lasso_Regression {lasso_model.coef_}\")\n",
        "print(f\"Ridge_Regression {ridge_model.coef_}\")"
      ],
      "metadata": {
        "id": "lhIDtv2nuWwK"
      },
      "execution_count": null,
      "outputs": []
    },
    {
      "cell_type": "code",
      "source": [
        "# Look at the R-squared Metric for the trained Models\n",
        "r2_lasso_train = lasso_model.score(X_train, y_train)\n",
        "r2_ridge_train = ridge_model.score(X_train, y_train)\n",
        "\n",
        "print(f\"Lasso-train {r2_lasso_train} \")\n",
        "print(f\"Ridge-train {r2_ridge_train} \")"
      ],
      "metadata": {
        "id": "PFdCsc2Qu075"
      },
      "execution_count": null,
      "outputs": []
    },
    {
      "cell_type": "markdown",
      "source": [
        "**Trained Regularization Models Evaluation**\n",
        "\n",
        "> The regularization models both have a value of 0.759, which is close to 1. This indicates that the regression lines fit the data points well."
      ],
      "metadata": {
        "id": "sK0Vo9b_wBig"
      }
    },
    {
      "cell_type": "code",
      "source": [
        "# R-squared Metric for the Test Set\n",
        "r2_lasso = lasso_model.score(X_test, y_test)\n",
        "r2_ridge = ridge_model.score(X_test, y_test)\n",
        "\n",
        "print(f\"Lasso_test {r2_lasso} \")\n",
        "print(f\"Ridge_test {r2_ridge} \")"
      ],
      "metadata": {
        "id": "uG2i3QVSvPAw"
      },
      "execution_count": null,
      "outputs": []
    },
    {
      "cell_type": "markdown",
      "source": [
        "**Evaluation of R-quared of the Regularization Models**\n",
        "\n",
        "> The models both have a value of 0.961 for the r-squared metric approximation. This indicates that the models predict the test data well.\n",
        "\n",
        "Info:\n",
        "> The models prediction approximation in general is 0.202 / 20% better than the trained model. This indicates that the model is a reliable prediction model for the 'rating' of the restaurant based on all the dependent features."
      ],
      "metadata": {
        "id": "X446zWPMwZM1"
      }
    },
    {
      "cell_type": "code",
      "source": [
        "# Mean Squared Error\n",
        "from sklearn.metrics import mean_squared_error\n",
        "mse_lasso = mean_squared_error(y_test, lasso_model.predict(X_test))\n",
        "print(f\"Lasso {mse_lasso}\")\n",
        "\n",
        "mse_ridge = mean_squared_error(y_test, ridge_model.predict(X_test))\n",
        "print(f\"Ridge {mse_ridge}\")"
      ],
      "metadata": {
        "id": "-5vni5dvvVbX"
      },
      "execution_count": null,
      "outputs": []
    },
    {
      "cell_type": "markdown",
      "source": [
        "**Evaluation of Mean Squared Error of the Regularization Models**\n",
        "\n",
        "> The lasso regularization model has a mean squared error value of 1.481 and the ridge regularization has a value of 1.443 frot he mean squared error.\n",
        "\n",
        " Info:\n",
        " >  Both models have a mean squared error value of 1, which is low and indicates that the models perform well, with a small value of erros between the predicted and actual values."
      ],
      "metadata": {
        "id": "Ah_faCm_xWCU"
      }
    },
    {
      "cell_type": "code",
      "source": [
        "# Mean Absolute Error\n",
        "from sklearn.metrics import mean_absolute_error\n",
        "mae_lasso = mean_absolute_error(y_test, lasso_model.predict(X_test))\n",
        "print(f\" Lasso {mae_lasso}\")\n",
        "\n",
        "mae_ridge = mean_absolute_error(y_test, ridge_model.predict(X_test))\n",
        "print(f\" Ridge {mae_ridge}\")"
      ],
      "metadata": {
        "id": "I8PJ5_PRvbjk"
      },
      "execution_count": null,
      "outputs": []
    },
    {
      "cell_type": "markdown",
      "source": [
        "**Evaluation of Mean Absolute Error of the Regularization Models**\n",
        "\n",
        "> The lasso regularization model has a mean absolute value of 0.846 and the ridge regularization model has a mean absolute value of 0.834.\n",
        "\n",
        "Info:\n",
        "> The average of the absolute differences between the predicted and actual values for both the ridge and lasso regularization model is approximately\n",
        "0.8: the average magnitude if the error between the predicted 'rating' and the actual 'rating' with both models is 0.8.\n",
        "> Both models performance is clsoe to perfect in predicting the 'rating' of a restaurant."
      ],
      "metadata": {
        "id": "r8IBe06cxChW"
      }
    },
    {
      "cell_type": "markdown",
      "source": [
        "Note:\n",
        "\n",
        "> We will be developing another Multiple Regression Model using the same features as the one in Model III. This is because we want to campare the prediction performance of the Multiple Linear Regression model with that of the Regularization models and in order to effictively match the criteria of the building of the models, we will use the same building techiques for all, which is split the data into training and testing data."
      ],
      "metadata": {
        "id": "_3jwtJD90eSN"
      }
    },
    {
      "cell_type": "code",
      "source": [
        "# Extract the Independent features and Dependent feature.\n",
        "X = res_Ratingmod [['food','service']]\n",
        "y = res_Ratingmod ['rating']"
      ],
      "metadata": {
        "id": "1GiNIXdFKEf9"
      },
      "execution_count": null,
      "outputs": []
    },
    {
      "cell_type": "code",
      "source": [
        "#Adding the constant value to the Independent Features\n",
        "X = sm.add_constant(X)\n",
        "\n",
        "#Split the dataset into training and testing sets\n",
        "from sklearn.model_selection import train_test_split\n",
        "X_train, X_test, y_train, y_test = train_test_split(X, y, test_size = 0.2)"
      ],
      "metadata": {
        "id": "SBT1cIOXK0M-"
      },
      "execution_count": null,
      "outputs": []
    },
    {
      "cell_type": "code",
      "source": [
        "#Fit the model\n",
        "from sklearn.linear_model import LinearRegression\n",
        "from sklearn.metrics import r2_score\n",
        "\n",
        "MLR = LinearRegression()\n",
        "MLR.fit(X_train, y_train)"
      ],
      "metadata": {
        "colab": {
          "base_uri": "https://localhost:8080/",
          "height": 75
        },
        "id": "-cce9RJCK6i-",
        "outputId": "290cbf1c-c6f3-49a6-da0e-c3b0cc2ae41a"
      },
      "execution_count": null,
      "outputs": [
        {
          "output_type": "execute_result",
          "data": {
            "text/plain": [
              "LinearRegression()"
            ],
            "text/html": [
              "<style>#sk-container-id-2 {color: black;background-color: white;}#sk-container-id-2 pre{padding: 0;}#sk-container-id-2 div.sk-toggleable {background-color: white;}#sk-container-id-2 label.sk-toggleable__label {cursor: pointer;display: block;width: 100%;margin-bottom: 0;padding: 0.3em;box-sizing: border-box;text-align: center;}#sk-container-id-2 label.sk-toggleable__label-arrow:before {content: \"▸\";float: left;margin-right: 0.25em;color: #696969;}#sk-container-id-2 label.sk-toggleable__label-arrow:hover:before {color: black;}#sk-container-id-2 div.sk-estimator:hover label.sk-toggleable__label-arrow:before {color: black;}#sk-container-id-2 div.sk-toggleable__content {max-height: 0;max-width: 0;overflow: hidden;text-align: left;background-color: #f0f8ff;}#sk-container-id-2 div.sk-toggleable__content pre {margin: 0.2em;color: black;border-radius: 0.25em;background-color: #f0f8ff;}#sk-container-id-2 input.sk-toggleable__control:checked~div.sk-toggleable__content {max-height: 200px;max-width: 100%;overflow: auto;}#sk-container-id-2 input.sk-toggleable__control:checked~label.sk-toggleable__label-arrow:before {content: \"▾\";}#sk-container-id-2 div.sk-estimator input.sk-toggleable__control:checked~label.sk-toggleable__label {background-color: #d4ebff;}#sk-container-id-2 div.sk-label input.sk-toggleable__control:checked~label.sk-toggleable__label {background-color: #d4ebff;}#sk-container-id-2 input.sk-hidden--visually {border: 0;clip: rect(1px 1px 1px 1px);clip: rect(1px, 1px, 1px, 1px);height: 1px;margin: -1px;overflow: hidden;padding: 0;position: absolute;width: 1px;}#sk-container-id-2 div.sk-estimator {font-family: monospace;background-color: #f0f8ff;border: 1px dotted black;border-radius: 0.25em;box-sizing: border-box;margin-bottom: 0.5em;}#sk-container-id-2 div.sk-estimator:hover {background-color: #d4ebff;}#sk-container-id-2 div.sk-parallel-item::after {content: \"\";width: 100%;border-bottom: 1px solid gray;flex-grow: 1;}#sk-container-id-2 div.sk-label:hover label.sk-toggleable__label {background-color: #d4ebff;}#sk-container-id-2 div.sk-serial::before {content: \"\";position: absolute;border-left: 1px solid gray;box-sizing: border-box;top: 0;bottom: 0;left: 50%;z-index: 0;}#sk-container-id-2 div.sk-serial {display: flex;flex-direction: column;align-items: center;background-color: white;padding-right: 0.2em;padding-left: 0.2em;position: relative;}#sk-container-id-2 div.sk-item {position: relative;z-index: 1;}#sk-container-id-2 div.sk-parallel {display: flex;align-items: stretch;justify-content: center;background-color: white;position: relative;}#sk-container-id-2 div.sk-item::before, #sk-container-id-2 div.sk-parallel-item::before {content: \"\";position: absolute;border-left: 1px solid gray;box-sizing: border-box;top: 0;bottom: 0;left: 50%;z-index: -1;}#sk-container-id-2 div.sk-parallel-item {display: flex;flex-direction: column;z-index: 1;position: relative;background-color: white;}#sk-container-id-2 div.sk-parallel-item:first-child::after {align-self: flex-end;width: 50%;}#sk-container-id-2 div.sk-parallel-item:last-child::after {align-self: flex-start;width: 50%;}#sk-container-id-2 div.sk-parallel-item:only-child::after {width: 0;}#sk-container-id-2 div.sk-dashed-wrapped {border: 1px dashed gray;margin: 0 0.4em 0.5em 0.4em;box-sizing: border-box;padding-bottom: 0.4em;background-color: white;}#sk-container-id-2 div.sk-label label {font-family: monospace;font-weight: bold;display: inline-block;line-height: 1.2em;}#sk-container-id-2 div.sk-label-container {text-align: center;}#sk-container-id-2 div.sk-container {/* jupyter's `normalize.less` sets `[hidden] { display: none; }` but bootstrap.min.css set `[hidden] { display: none !important; }` so we also need the `!important` here to be able to override the default hidden behavior on the sphinx rendered scikit-learn.org. See: https://github.com/scikit-learn/scikit-learn/issues/21755 */display: inline-block !important;position: relative;}#sk-container-id-2 div.sk-text-repr-fallback {display: none;}</style><div id=\"sk-container-id-2\" class=\"sk-top-container\"><div class=\"sk-text-repr-fallback\"><pre>LinearRegression()</pre><b>In a Jupyter environment, please rerun this cell to show the HTML representation or trust the notebook. <br />On GitHub, the HTML representation is unable to render, please try loading this page with nbviewer.org.</b></div><div class=\"sk-container\" hidden><div class=\"sk-item\"><div class=\"sk-estimator sk-toggleable\"><input class=\"sk-toggleable__control sk-hidden--visually\" id=\"sk-estimator-id-2\" type=\"checkbox\" checked><label for=\"sk-estimator-id-2\" class=\"sk-toggleable__label sk-toggleable__label-arrow\">LinearRegression</label><div class=\"sk-toggleable__content\"><pre>LinearRegression()</pre></div></div></div></div></div>"
            ]
          },
          "metadata": {},
          "execution_count": 46
        }
      ]
    },
    {
      "cell_type": "code",
      "source": [
        "#Make predcitions on the testing set\n",
        "MLR_predict = MLR.predict(X_test)"
      ],
      "metadata": {
        "id": "o5BqwsKeK93_"
      },
      "execution_count": null,
      "outputs": []
    },
    {
      "cell_type": "code",
      "source": [
        "#Evaluating the Model\n",
        "mse = mean_squared_error(y_test, MLR_predict)\n",
        "print(\"Mean squared error:\", mse)\n",
        "\n",
        "mae = mean_absolute_error(y_test, MLR_predict)\n",
        "print(\"Mean absolute error:\", mae)\n",
        "\n",
        "r_squared = r2_score(y_test, MLR_predict)\n",
        "print(\"R-squared: \", r_squared)"
      ],
      "metadata": {
        "id": "KZIeI7QRHp0w"
      },
      "execution_count": null,
      "outputs": []
    },
    {
      "cell_type": "markdown",
      "source": [
        "**Evaluation of Multiple Linear Regression Model**\n",
        "\n",
        "> The multiple linear regression model has a mean squared error value of\n",
        "54.964, a mean absolute erro value of 7.198 and r-squared value of 0.439.\n",
        "\n",
        "Info:\n",
        "> The multtiple linear regression model has a low performance. The differences between the model's predictions and the actual values are high - MSE: 54.964 and the MAE: 7.198 [is relatively lower than the MSE because it provides a measure of the average magnitude of the error in the predictions of the model in relation to the actual values]. This indicates that outliers in the data sufficiently affect the MSE evaluation. However, it stays that the model's performance is poor.\n",
        "\n",
        ">  The r-squared metric of the model is 0.439, this indicates that the model cannot predict the 'rating' value of a the restaurant."
      ],
      "metadata": {
        "id": "IWdkRN2aSpdB"
      }
    },
    {
      "cell_type": "markdown",
      "source": [
        "**Comparison of MLR and Regularization Models**\n",
        "\n",
        "> For the regularization models: ridge and lasso regrssion model have a strong coefficient of determination - r-squared value of 0.961, which is close to perfect prediction of the tested models. Additionally, the mean squared and mean absolute error evaluation of the perfomrance of the regularization models is very low erro values between the model's prediction of the restaurant rating the actual rating. Thus, the regularization models produce little error in predicting the rating of a restaurant.\n",
        "\n",
        "> It is important to note the distinctiuon between the two models, the ridge model regularization is a slightly better performance model than the lass regularization model. In all the metric evaluations of the models, te ridge model slightly produces better evaluation values than the lasso model.\n",
        "\n",
        "> For the multiple linear regression model, MLR, the models prediction perfromance is very low compared to those of the regularization models. The errors of the MLR model prediction are way higher than that of the regularization models and the r-squared value is way lower compared to the regularization metrics.\n",
        "\n",
        "\n",
        "**Conclusion**\n",
        "> The Regularization models produced better performance than the MLR model. Though the MLR model use only the independent feautures with strong correlation with the dependent features.\n",
        "\n",
        "> The Ridge regression model is a better predicting model than all the models in this lab for the restaurant rating and it considers all the dependent features."
      ],
      "metadata": {
        "id": "Nd7BIEwQvg3Z"
      }
    },
    {
      "cell_type": "code",
      "source": [
        "# Colab2PDF v1.0.4 by Drengskapur (github.com/drengskapur/colab2pdf) (License: GPL-3.0-or-later)\n",
        "# @title {display-mode:\"form\"}\n",
        "# @markdown ⬇️ Download PDF\n",
        "def colab2pdf():\n",
        "    ENABLE=True # @param {type:\"boolean\"}\n",
        "    if ENABLE:\n",
        "        !apt-get install librsvg2-bin\n",
        "        import os, datetime, json, locale, pathlib, urllib, requests, werkzeug, nbformat, google, yaml, warnings\n",
        "        locale.setlocale(locale.LC_ALL, 'en_US.UTF-8')\n",
        "        NAME = pathlib.Path(werkzeug.utils.secure_filename(urllib.parse.unquote(requests.get(f\"http://{os.environ['COLAB_JUPYTER_IP']}:{os.environ['KMP_TARGET_PORT']}/api/sessions\").json()[0][\"name\"])))\n",
        "        TEMP = pathlib.Path(\"/content/pdfs\") / f\"{datetime.datetime.now().strftime('%Y%m%d_%H%M%S')}_{NAME.stem}\"; TEMP.mkdir(parents=True, exist_ok=True)\n",
        "        NB = [cell for cell in nbformat.reads(json.dumps(google.colab._message.blocking_request(\"get_ipynb\", timeout_sec=600)[\"ipynb\"]), as_version=4).cells if \"--Colab2PDF\" not in cell.source]\n",
        "        warnings.filterwarnings('ignore', category=nbformat.validator.MissingIDFieldWarning)\n",
        "        with (TEMP / f\"{NAME.stem}.ipynb\").open(\"w\", encoding=\"utf-8\") as nb_copy: nbformat.write(nbformat.v4.new_notebook(cells=NB or [nbformat.v4.new_code_cell(\"#\")]), nb_copy)\n",
        "        if not pathlib.Path(\"/usr/local/bin/quarto\").exists():\n",
        "            !wget -q \"https://quarto.org/download/latest/quarto-linux-amd64.deb\" -P {TEMP} && dpkg -i {TEMP}/quarto-linux-amd64.deb > /dev/null && quarto install tinytex --update-path --quiet\n",
        "        with (TEMP / \"config.yml\").open(\"w\", encoding=\"utf-8\") as file: yaml.dump({'include-in-header': [{\"text\": r\"\\usepackage{fvextra}\\DefineVerbatimEnvironment{Highlighting}{Verbatim}{breaksymbolleft={},showspaces=false,showtabs=false,breaklines,breakanywhere,commandchars=\\\\\\{\\}}\"}],'include-before-body': [{\"text\": r\"\\DefineVerbatimEnvironment{verbatim}{Verbatim}{breaksymbolleft={},showspaces=false,showtabs=false,breaklines}\"}]}, file)\n",
        "        !quarto render {TEMP}/{NAME.stem}.ipynb --metadata-file={TEMP}/config.yml --to pdf -M latex-auto-install -M margin-top=1in -M margin-bottom=1in -M margin-left=1in -M margin-right=1in --quiet\n",
        "        google.colab.files.download(str(TEMP / f\"{NAME.stem}.pdf\"))\n",
        "colab2pdf()"
      ],
      "metadata": {
        "colab": {
          "base_uri": "https://localhost:8080/",
          "height": 320
        },
        "id": "0SR_vMymaTmB",
        "outputId": "642e398f-4876-4d9a-b4c1-7899890333d9"
      },
      "execution_count": null,
      "outputs": [
        {
          "output_type": "stream",
          "name": "stdout",
          "text": [
            "Reading package lists... Done\n",
            "Building dependency tree... Done\n",
            "Reading state information... Done\n",
            "The following NEW packages will be installed:\n",
            "  librsvg2-bin\n",
            "0 upgraded, 1 newly installed, 0 to remove and 38 not upgraded.\n",
            "Need to get 1,871 kB of archives.\n",
            "After this operation, 6,019 kB of additional disk space will be used.\n",
            "Get:1 http://archive.ubuntu.com/ubuntu jammy-updates/universe amd64 librsvg2-bin amd64 2.52.5+dfsg-3ubuntu0.2 [1,871 kB]\n",
            "Fetched 1,871 kB in 0s (4,581 kB/s)\n",
            "Selecting previously unselected package librsvg2-bin.\n",
            "(Reading database ... 121752 files and directories currently installed.)\n",
            "Preparing to unpack .../librsvg2-bin_2.52.5+dfsg-3ubuntu0.2_amd64.deb ...\n",
            "Unpacking librsvg2-bin (2.52.5+dfsg-3ubuntu0.2) ...\n",
            "Setting up librsvg2-bin (2.52.5+dfsg-3ubuntu0.2) ...\n",
            "Processing triggers for man-db (2.10.2-1) ...\n"
          ]
        },
        {
          "output_type": "display_data",
          "data": {
            "text/plain": [
              "<IPython.core.display.Javascript object>"
            ],
            "application/javascript": [
              "\n",
              "    async function download(id, filename, size) {\n",
              "      if (!google.colab.kernel.accessAllowed) {\n",
              "        return;\n",
              "      }\n",
              "      const div = document.createElement('div');\n",
              "      const label = document.createElement('label');\n",
              "      label.textContent = `Downloading \"${filename}\": `;\n",
              "      div.appendChild(label);\n",
              "      const progress = document.createElement('progress');\n",
              "      progress.max = size;\n",
              "      div.appendChild(progress);\n",
              "      document.body.appendChild(div);\n",
              "\n",
              "      const buffers = [];\n",
              "      let downloaded = 0;\n",
              "\n",
              "      const channel = await google.colab.kernel.comms.open(id);\n",
              "      // Send a message to notify the kernel that we're ready.\n",
              "      channel.send({})\n",
              "\n",
              "      for await (const message of channel.messages) {\n",
              "        // Send a message to notify the kernel that we're ready.\n",
              "        channel.send({})\n",
              "        if (message.buffers) {\n",
              "          for (const buffer of message.buffers) {\n",
              "            buffers.push(buffer);\n",
              "            downloaded += buffer.byteLength;\n",
              "            progress.value = downloaded;\n",
              "          }\n",
              "        }\n",
              "      }\n",
              "      const blob = new Blob(buffers, {type: 'application/binary'});\n",
              "      const a = document.createElement('a');\n",
              "      a.href = window.URL.createObjectURL(blob);\n",
              "      a.download = filename;\n",
              "      div.appendChild(a);\n",
              "      a.click();\n",
              "      div.remove();\n",
              "    }\n",
              "  "
            ]
          },
          "metadata": {}
        },
        {
          "output_type": "display_data",
          "data": {
            "text/plain": [
              "<IPython.core.display.Javascript object>"
            ],
            "application/javascript": [
              "download(\"download_cbca7b33-934f-4fa2-a3b6-984ae903dcbf\", \"Lab02.pdf\", 149375)"
            ]
          },
          "metadata": {}
        }
      ]
    }
  ],
  "metadata": {
    "colab": {
      "provenance": [],
      "authorship_tag": "ABX9TyOSDztfrpp2Kn+mvm5534GU",
      "include_colab_link": true
    },
    "kernelspec": {
      "display_name": "Python 3",
      "name": "python3"
    },
    "language_info": {
      "name": "python"
    }
  },
  "nbformat": 4,
  "nbformat_minor": 0
}